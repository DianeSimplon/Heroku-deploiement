{
 "cells": [
  {
   "cell_type": "code",
   "execution_count": 2,
   "metadata": {},
   "outputs": [],
   "source": [
    "import warnings\n",
    "warnings.filterwarnings('ignore')\n",
    "\n",
    "import numpy as np \n",
    "from sklearn.datasets import make_regression\n",
    "import pandas as pd\n",
    "import seaborn as sns\n",
    "import matplotlib.pyplot as plt\n",
    "%matplotlib inline"
   ]
  },
  {
   "cell_type": "code",
   "execution_count": 119,
   "metadata": {},
   "outputs": [
    {
     "name": "stdout",
     "output_type": "stream",
     "text": [
      "Promoteur imo.csv\n",
      "Promoteur_imo.csv\n",
      "Promoteur_imo_copy.csv\n",
      "Promoteur_imo_copy_modifier.csv\n"
     ]
    }
   ],
   "source": [
    "files = [file for file in os.listdir(r'C:\\\\Users\\\\Abize\\\\OneDrive\\\\Bureau\\\\SIMPLON\\\\\\Bien_immo_Django\\\\data')]\n",
    "for file in files:\n",
    "    print(file)"
   ]
  },
  {
   "cell_type": "code",
   "execution_count": 4,
   "metadata": {},
   "outputs": [],
   "source": [
    "data = pd.read_csv(\"promoteur_immo_V2.csv\")"
   ]
  },
  {
   "cell_type": "markdown",
   "metadata": {},
   "source": [
    "## Connexion à ma base de données "
   ]
  },
  {
   "cell_type": "code",
   "execution_count": 5,
   "metadata": {},
   "outputs": [],
   "source": [
    "import sqlite3 as db\n",
    "# Create your connection.\n",
    "#df = pd.read_csv('promoteur_immo_V2.csv', delimiter=',')\n",
    "df = pd.read_csv('promoteur_immo_V2.csv', names =['ville', 'departement'])\n",
    "tf = df[df.ville == True]\n",
    "conn = db.connect(r'C:\\Users\\Abize\\OneDrive\\Bureau\\SIMPLON\\Bien_immo_Django\\db.sqlite3')\n",
    "tf.to_sql(name='upload_csv_upload_csv', con=conn ,if_exists='append')"
   ]
  },
  {
   "cell_type": "markdown",
   "metadata": {},
   "source": [
    "## Un peu d'analyse "
   ]
  },
  {
   "cell_type": "code",
   "execution_count": 3,
   "metadata": {},
   "outputs": [
    {
     "name": "stdout",
     "output_type": "stream",
     "text": [
      "<class 'pandas.core.frame.DataFrame'>\n",
      "RangeIndex: 2751 entries, 0 to 2750\n",
      "Data columns (total 23 columns):\n",
      " #   Column              Non-Null Count  Dtype  \n",
      "---  ------              --------------  -----  \n",
      " 0   Unnamed: 0          2751 non-null   int64  \n",
      " 1   id_lot              2751 non-null   object \n",
      " 2   nb_piece            2751 non-null   float64\n",
      " 3   typologie           2751 non-null   object \n",
      " 4   prix_tva_reduite    425 non-null    float64\n",
      " 5   prix_tva_normale    2737 non-null   float64\n",
      " 6   prix_HT             2737 non-null   float64\n",
      " 7   prix_m2_HT          2737 non-null   float64\n",
      " 8   prix_m2_TTC         2737 non-null   float64\n",
      " 9   surface             2751 non-null   float64\n",
      " 10  etage               2608 non-null   float64\n",
      " 11  orientation         2751 non-null   object \n",
      " 12  exterieur           2751 non-null   bool   \n",
      " 13  balcony             2751 non-null   bool   \n",
      " 14  garden              2751 non-null   bool   \n",
      " 15  parking             2751 non-null   float64\n",
      " 16  nom_programme       2751 non-null   object \n",
      " 17  ville               2751 non-null   object \n",
      " 18  departement         2751 non-null   float64\n",
      " 19  date_fin_programme  2751 non-null   object \n",
      " 20  adresse_entiere     2751 non-null   object \n",
      " 21  promoteur           2751 non-null   object \n",
      " 22  date_extraction     2751 non-null   object \n",
      "dtypes: bool(3), float64(10), int64(1), object(9)\n",
      "memory usage: 438.0+ KB\n"
     ]
    }
   ],
   "source": [
    "data.info()"
   ]
  },
  {
   "cell_type": "code",
   "execution_count": 10,
   "metadata": {},
   "outputs": [
    {
     "name": "stdout",
     "output_type": "stream",
     "text": [
      "<class 'pandas.core.frame.DataFrame'>\n",
      "Int64Index: 34 entries, 25 to 117\n",
      "Data columns (total 23 columns):\n",
      " #   Column              Non-Null Count  Dtype  \n",
      "---  ------              --------------  -----  \n",
      " 0   id                  34 non-null     int64  \n",
      " 1   id_lot              34 non-null     object \n",
      " 2   nb_piece            34 non-null     float64\n",
      " 3   typologie           34 non-null     object \n",
      " 4   prix_tva_reduite    34 non-null     float64\n",
      " 5   prix_tva_normale    34 non-null     float64\n",
      " 6   prix_HT             34 non-null     float64\n",
      " 7   prix_m2_HT          34 non-null     float64\n",
      " 8   prix_m2_TTC         34 non-null     float64\n",
      " 9   surface             34 non-null     float64\n",
      " 10  etage               34 non-null     float64\n",
      " 11  orientation         34 non-null     object \n",
      " 12  exterieur           34 non-null     bool   \n",
      " 13  balcony             34 non-null     bool   \n",
      " 14  garden              34 non-null     bool   \n",
      " 15  parking             34 non-null     float64\n",
      " 16  nom_programme       34 non-null     object \n",
      " 17  ville               34 non-null     object \n",
      " 18  departement         34 non-null     float64\n",
      " 19  date_fin_programme  34 non-null     object \n",
      " 20  adresse_entiere     34 non-null     object \n",
      " 21  promoteur           34 non-null     object \n",
      " 22  date_extraction     34 non-null     object \n",
      "dtypes: bool(3), float64(10), int64(1), object(9)\n",
      "memory usage: 5.7+ KB\n"
     ]
    }
   ],
   "source": [
    "# Voir par rapport à une commune\n",
    "data_clermont = data[data['ville']=='Clermont-Ferrand']\n",
    "data_clermont.info()"
   ]
  },
  {
   "cell_type": "code",
   "execution_count": 27,
   "metadata": {},
   "outputs": [
    {
     "data": {
      "text/plain": [
       "typologie  \n",
       "Appartement    66\n",
       "Maison          2\n",
       "dtype: int64"
      ]
     },
     "execution_count": 27,
     "metadata": {},
     "output_type": "execute_result"
    }
   ],
   "source": [
    "data_clermont[['typologie']].value_counts()"
   ]
  },
  {
   "cell_type": "code",
   "execution_count": 29,
   "metadata": {},
   "outputs": [
    {
     "data": {
      "image/png": "[encoded data removed]",
      "text/plain": [
       "<Figure size 720x360 with 1 Axes>"
      ]
     },
     "metadata": {},
     "output_type": "display_data"
    }
   ],
   "source": [
    "data_clermont.dtypes.value_counts().plot.pie();"
   ]
  },
  {
   "cell_type": "code",
   "execution_count": 19,
   "metadata": {},
   "outputs": [
    {
     "data": {
      "text/plain": [
       "<AxesSubplot:ylabel='None'>"
      ]
     },
     "execution_count": 19,
     "metadata": {},
     "output_type": "execute_result"
    },
    {
     "data": {
      "image/png": "[encoded data removed]",
      "text/plain": [
       "<Figure size 432x288 with 1 Axes>"
      ]
     },
     "metadata": {},
     "output_type": "display_data"
    }
   ],
   "source": [
    "data.dtypes.value_counts().plot.pie()"
   ]
  },
  {
   "cell_type": "code",
   "execution_count": 30,
   "metadata": {},
   "outputs": [
    {
     "data": {
      "text/plain": [
       "id                     0\n",
       "id_lot                 0\n",
       "nb_piece               0\n",
       "typologie              0\n",
       "prix_tva_reduite      34\n",
       "prix_tva_normale       1\n",
       "prix_HT                1\n",
       "prix_m2_HT             1\n",
       "prix_m2_TTC            1\n",
       "surface                0\n",
       "etage                  2\n",
       "orientation            0\n",
       "exterieur              0\n",
       "balcony                0\n",
       "garden                 0\n",
       "parking                0\n",
       "nom_programme          0\n",
       "ville                  0\n",
       "departement            0\n",
       "date_fin_programme     0\n",
       "adresse_entiere        0\n",
       "promoteur              0\n",
       "date_extraction        0\n",
       "dtype: int64"
      ]
     },
     "execution_count": 30,
     "metadata": {},
     "output_type": "execute_result"
    }
   ],
   "source": [
    "data_clermont.isna().sum()"
   ]
  },
  {
   "cell_type": "code",
   "execution_count": 31,
   "metadata": {},
   "outputs": [
    {
     "data": {
      "text/html": [
       "<div>\n",
       "<style scoped>\n",
       "    .dataframe tbody tr th:only-of-type {\n",
       "        vertical-align: middle;\n",
       "    }\n",
       "\n",
       "    .dataframe tbody tr th {\n",
       "        vertical-align: top;\n",
       "    }\n",
       "\n",
       "    .dataframe thead th {\n",
       "        text-align: right;\n",
       "    }\n",
       "</style>\n",
       "<table border=\"1\" class=\"dataframe\">\n",
       "  <thead>\n",
       "    <tr style=\"text-align: right;\">\n",
       "      <th></th>\n",
       "      <th>count</th>\n",
       "      <th>mean</th>\n",
       "      <th>std</th>\n",
       "      <th>min</th>\n",
       "      <th>25%</th>\n",
       "      <th>50%</th>\n",
       "      <th>75%</th>\n",
       "      <th>max</th>\n",
       "    </tr>\n",
       "  </thead>\n",
       "  <tbody>\n",
       "    <tr>\n",
       "      <th>id</th>\n",
       "      <td>68.0</td>\n",
       "      <td>46.205882</td>\n",
       "      <td>39.925886</td>\n",
       "      <td>0.00</td>\n",
       "      <td>16.750000</td>\n",
       "      <td>33.500000</td>\n",
       "      <td>50.25</td>\n",
       "      <td>121.00</td>\n",
       "    </tr>\n",
       "    <tr>\n",
       "      <th>nb_piece</th>\n",
       "      <td>68.0</td>\n",
       "      <td>3.250000</td>\n",
       "      <td>0.887307</td>\n",
       "      <td>1.00</td>\n",
       "      <td>3.000000</td>\n",
       "      <td>3.000000</td>\n",
       "      <td>4.00</td>\n",
       "      <td>5.00</td>\n",
       "    </tr>\n",
       "    <tr>\n",
       "      <th>prix_tva_reduite</th>\n",
       "      <td>34.0</td>\n",
       "      <td>206358.529412</td>\n",
       "      <td>56187.293295</td>\n",
       "      <td>139788.00</td>\n",
       "      <td>161546.750000</td>\n",
       "      <td>191878.000000</td>\n",
       "      <td>229374.25</td>\n",
       "      <td>378042.00</td>\n",
       "    </tr>\n",
       "    <tr>\n",
       "      <th>prix_tva_normale</th>\n",
       "      <td>67.0</td>\n",
       "      <td>282308.962298</td>\n",
       "      <td>116123.512457</td>\n",
       "      <td>155000.00</td>\n",
       "      <td>203200.379147</td>\n",
       "      <td>259999.620853</td>\n",
       "      <td>314000.00</td>\n",
       "      <td>671500.00</td>\n",
       "    </tr>\n",
       "    <tr>\n",
       "      <th>prix_HT</th>\n",
       "      <td>67.0</td>\n",
       "      <td>235257.468060</td>\n",
       "      <td>96769.593655</td>\n",
       "      <td>129166.67</td>\n",
       "      <td>169333.645000</td>\n",
       "      <td>216666.350000</td>\n",
       "      <td>261666.67</td>\n",
       "      <td>559583.33</td>\n",
       "    </tr>\n",
       "    <tr>\n",
       "      <th>prix_m2_HT</th>\n",
       "      <td>67.0</td>\n",
       "      <td>3226.858507</td>\n",
       "      <td>486.225715</td>\n",
       "      <td>2494.83</td>\n",
       "      <td>2857.225000</td>\n",
       "      <td>3206.370000</td>\n",
       "      <td>3441.83</td>\n",
       "      <td>4629.63</td>\n",
       "    </tr>\n",
       "    <tr>\n",
       "      <th>prix_m2_TTC</th>\n",
       "      <td>67.0</td>\n",
       "      <td>3872.230746</td>\n",
       "      <td>583.471848</td>\n",
       "      <td>2993.79</td>\n",
       "      <td>3428.670000</td>\n",
       "      <td>3847.640000</td>\n",
       "      <td>4130.20</td>\n",
       "      <td>5555.56</td>\n",
       "    </tr>\n",
       "    <tr>\n",
       "      <th>surface</th>\n",
       "      <td>68.0</td>\n",
       "      <td>72.349559</td>\n",
       "      <td>22.093971</td>\n",
       "      <td>27.90</td>\n",
       "      <td>59.480000</td>\n",
       "      <td>70.360000</td>\n",
       "      <td>85.07</td>\n",
       "      <td>128.97</td>\n",
       "    </tr>\n",
       "    <tr>\n",
       "      <th>etage</th>\n",
       "      <td>66.0</td>\n",
       "      <td>3.106061</td>\n",
       "      <td>1.763988</td>\n",
       "      <td>0.00</td>\n",
       "      <td>2.000000</td>\n",
       "      <td>3.000000</td>\n",
       "      <td>4.75</td>\n",
       "      <td>6.00</td>\n",
       "    </tr>\n",
       "    <tr>\n",
       "      <th>parking</th>\n",
       "      <td>68.0</td>\n",
       "      <td>0.985294</td>\n",
       "      <td>0.121268</td>\n",
       "      <td>0.00</td>\n",
       "      <td>1.000000</td>\n",
       "      <td>1.000000</td>\n",
       "      <td>1.00</td>\n",
       "      <td>1.00</td>\n",
       "    </tr>\n",
       "    <tr>\n",
       "      <th>departement</th>\n",
       "      <td>68.0</td>\n",
       "      <td>63.000000</td>\n",
       "      <td>0.000000</td>\n",
       "      <td>63.00</td>\n",
       "      <td>63.000000</td>\n",
       "      <td>63.000000</td>\n",
       "      <td>63.00</td>\n",
       "      <td>63.00</td>\n",
       "    </tr>\n",
       "  </tbody>\n",
       "</table>\n",
       "</div>"
      ],
      "text/plain": [
       "                  count           mean            std        min  \\\n",
       "id                 68.0      46.205882      39.925886       0.00   \n",
       "nb_piece           68.0       3.250000       0.887307       1.00   \n",
       "prix_tva_reduite   34.0  206358.529412   56187.293295  139788.00   \n",
       "prix_tva_normale   67.0  282308.962298  116123.512457  155000.00   \n",
       "prix_HT            67.0  235257.468060   96769.593655  129166.67   \n",
       "prix_m2_HT         67.0    3226.858507     486.225715    2494.83   \n",
       "prix_m2_TTC        67.0    3872.230746     583.471848    2993.79   \n",
       "surface            68.0      72.349559      22.093971      27.90   \n",
       "etage              66.0       3.106061       1.763988       0.00   \n",
       "parking            68.0       0.985294       0.121268       0.00   \n",
       "departement        68.0      63.000000       0.000000      63.00   \n",
       "\n",
       "                            25%            50%        75%        max  \n",
       "id                    16.750000      33.500000      50.25     121.00  \n",
       "nb_piece               3.000000       3.000000       4.00       5.00  \n",
       "prix_tva_reduite  161546.750000  191878.000000  229374.25  378042.00  \n",
       "prix_tva_normale  203200.379147  259999.620853  314000.00  671500.00  \n",
       "prix_HT           169333.645000  216666.350000  261666.67  559583.33  \n",
       "prix_m2_HT          2857.225000    3206.370000    3441.83    4629.63  \n",
       "prix_m2_TTC         3428.670000    3847.640000    4130.20    5555.56  \n",
       "surface               59.480000      70.360000      85.07     128.97  \n",
       "etage                  2.000000       3.000000       4.75       6.00  \n",
       "parking                1.000000       1.000000       1.00       1.00  \n",
       "departement           63.000000      63.000000      63.00      63.00  "
      ]
     },
     "execution_count": 31,
     "metadata": {},
     "output_type": "execute_result"
    }
   ],
   "source": [
    "data_clermont.describe().T"
   ]
  },
  {
   "cell_type": "code",
   "execution_count": 34,
   "metadata": {},
   "outputs": [
    {
     "name": "stdout",
     "output_type": "stream",
     "text": [
      "mean : \t 282308.96229751717\n",
      "****************************************\n",
      "variance:  \t 13484670145.43148\n",
      "****************************************\n",
      "std : \t 116123.51245734638\n",
      "****************************************\n",
      "median : \t 259999.6208530806\n",
      "****************************************\n",
      "iqr : \t 110799.62085308053\n",
      "****************************************\n",
      "mode : \t [180999.81042654 246000.        ]\n",
      "****************************************\n",
      "skewness: : \t 1.5959639170503377\n"
     ]
    }
   ],
   "source": [
    "def indicateur(series: pd.Series):\n",
    "    if series.dtype == 'int64' or series.dtype=='float64':\n",
    "        print('mean : \\t', series.mean())\n",
    "        print(\"****************************************\")\n",
    "        print('variance:  \\t', series.var())\n",
    "        print(\"****************************************\")\n",
    "        print('std : \\t', series.std())\n",
    "        print(\"****************************************\")\n",
    "        print('median : \\t', series.median())\n",
    "        print(\"****************************************\")\n",
    "        print('iqr : \\t', series.quantile(0.75) - series.quantile(0.25))\n",
    "        print(\"****************************************\")\n",
    "        print('mode : \\t', series.mode().values)\n",
    "        print(\"****************************************\")\n",
    "        print('skewness: : \\t', series.skew())\n",
    "        return \n",
    "data_clermont_prix_normal = indicateur(data_clermont[\"prix_tva_normale\"])"
   ]
  },
  {
   "cell_type": "code",
   "execution_count": 32,
   "metadata": {},
   "outputs": [
    {
     "data": {
      "image/png": "[encoded data removed]",
      "text/plain": [
       "<Figure size 720x360 with 1 Axes>"
      ]
     },
     "metadata": {},
     "output_type": "display_data"
    }
   ],
   "source": [
    "sns.set(rc = {'figure.figsize': (10, 5)}) \n",
    "f, axes = plt.subplots()\n",
    "sns.boxenplot(data['prix_tva_normale']);\n",
    "plt.show();"
   ]
  },
  {
   "cell_type": "code",
   "execution_count": 33,
   "metadata": {},
   "outputs": [
    {
     "data": {
      "image/png": "[encoded data removed]",
      "text/plain": [
       "<Figure size 720x360 with 1 Axes>"
      ]
     },
     "metadata": {},
     "output_type": "display_data"
    }
   ],
   "source": [
    "data[\"prix_tva_normale\"].hist(bins=20)\n",
    "plt.show()"
   ]
  },
  {
   "cell_type": "code",
   "execution_count": 35,
   "metadata": {},
   "outputs": [
    {
     "data": {
      "image/png": "[encoded data removed]",
      "text/plain": [
       "<Figure size 1440x720 with 2 Axes>"
      ]
     },
     "metadata": {},
     "output_type": "display_data"
    }
   ],
   "source": [
    "plt.figure(figsize=(20,10))\n",
    "correlation = data_clermont.corr()\n",
    "ax = sns.heatmap(correlation, vmin=-1, vmax=1, center=0, annot=True);"
   ]
  },
  {
   "cell_type": "code",
   "execution_count": 57,
   "metadata": {},
   "outputs": [],
   "source": [
    "#! pip install yellowbrick"
   ]
  },
  {
   "cell_type": "code",
   "execution_count": 58,
   "metadata": {},
   "outputs": [
    {
     "name": "stdout",
     "output_type": "stream",
     "text": [
      "1.3.post1\n"
     ]
    },
    {
     "data": {
      "image/png": "[encoded data removed]",
      "text/plain": [
       "<Figure size 576x396 with 2 Axes>"
      ]
     },
     "metadata": {},
     "output_type": "display_data"
    },
    {
     "data": {
      "text/plain": [
       "<AxesSubplot:title={'center':'Pearson Ranking of 8 Features'}>"
      ]
     },
     "execution_count": 58,
     "metadata": {},
     "output_type": "execute_result"
    }
   ],
   "source": [
    "#version de yellowbrick\n",
    "import yellowbrick\n",
    "print(yellowbrick.__version__)\n",
    "#redondance entre les variables\n",
    "#corrélations entre paires de variables\n",
    "from yellowbrick.features import Rank2D\n",
    "r2D = Rank2D(algorithm='pearson')\n",
    "r2D.fit(X)\n",
    "r2D.transform(X)\n",
    "r2D.show()"
   ]
  },
  {
   "cell_type": "markdown",
   "metadata": {},
   "source": [
    "## Modelisation"
   ]
  },
  {
   "cell_type": "code",
   "execution_count": 62,
   "metadata": {},
   "outputs": [
    {
     "data": {
      "text/plain": [
       "(68, 23)"
      ]
     },
     "execution_count": 62,
     "metadata": {},
     "output_type": "execute_result"
    }
   ],
   "source": [
    "data_clermont.shape"
   ]
  },
  {
   "cell_type": "code",
   "execution_count": 70,
   "metadata": {},
   "outputs": [],
   "source": [
    "data_clermont.dropna(inplace=True)\n",
    "#data_clermont.head()"
   ]
  },
  {
   "cell_type": "code",
   "execution_count": 6,
   "metadata": {},
   "outputs": [
    {
     "data": {
      "text/plain": [
       "prix_tva_reduite      2326\n",
       "etage                  143\n",
       "prix_tva_normale        14\n",
       "prix_HT                 14\n",
       "prix_m2_HT              14\n",
       "prix_m2_TTC             14\n",
       "id                       0\n",
       "parking                  0\n",
       "promoteur                0\n",
       "adresse_entiere          0\n",
       "date_fin_programme       0\n",
       "departement              0\n",
       "ville                    0\n",
       "nom_programme            0\n",
       "orientation              0\n",
       "garden                   0\n",
       "balcony                  0\n",
       "exterieur                0\n",
       "id_lot                   0\n",
       "surface                  0\n",
       "typologie                0\n",
       "nb_piece                 0\n",
       "date_extraction          0\n",
       "dtype: int64"
      ]
     },
     "execution_count": 6,
     "metadata": {},
     "output_type": "execute_result"
    }
   ],
   "source": [
    "#Valeurs manquantes\n",
    "data.isnull().sum().sort_values(ascending=False)"
   ]
  },
  {
   "cell_type": "code",
   "execution_count": 7,
   "metadata": {},
   "outputs": [],
   "source": [
    "data.dropna(inplace=True)"
   ]
  },
  {
   "cell_type": "code",
   "execution_count": 8,
   "metadata": {},
   "outputs": [
    {
     "data": {
      "text/plain": [
       "id                    0\n",
       "exterieur             0\n",
       "promoteur             0\n",
       "adresse_entiere       0\n",
       "date_fin_programme    0\n",
       "departement           0\n",
       "ville                 0\n",
       "nom_programme         0\n",
       "parking               0\n",
       "garden                0\n",
       "balcony               0\n",
       "orientation           0\n",
       "id_lot                0\n",
       "etage                 0\n",
       "surface               0\n",
       "prix_m2_TTC           0\n",
       "prix_m2_HT            0\n",
       "prix_HT               0\n",
       "prix_tva_normale      0\n",
       "prix_tva_reduite      0\n",
       "typologie             0\n",
       "nb_piece              0\n",
       "date_extraction       0\n",
       "dtype: int64"
      ]
     },
     "execution_count": 8,
     "metadata": {},
     "output_type": "execute_result"
    }
   ],
   "source": [
    "#Valeurs manquantes\n",
    "data.isnull().sum().sort_values(ascending=False)"
   ]
  },
  {
   "cell_type": "code",
   "execution_count": 71,
   "metadata": {},
   "outputs": [
    {
     "data": {
      "text/plain": [
       "id                    0\n",
       "exterieur             0\n",
       "promoteur             0\n",
       "adresse_entiere       0\n",
       "date_fin_programme    0\n",
       "departement           0\n",
       "ville                 0\n",
       "nom_programme         0\n",
       "parking               0\n",
       "garden                0\n",
       "balcony               0\n",
       "orientation           0\n",
       "id_lot                0\n",
       "etage                 0\n",
       "surface               0\n",
       "prix_m2_TTC           0\n",
       "prix_m2_HT            0\n",
       "prix_HT               0\n",
       "prix_tva_normale      0\n",
       "prix_tva_reduite      0\n",
       "typologie             0\n",
       "nb_piece              0\n",
       "date_extraction       0\n",
       "dtype: int64"
      ]
     },
     "execution_count": 71,
     "metadata": {},
     "output_type": "execute_result"
    }
   ],
   "source": [
    "#Valeurs manquantes\n",
    "data_clermont.isnull().sum().sort_values(ascending=False)"
   ]
  },
  {
   "cell_type": "code",
   "execution_count": 37,
   "metadata": {},
   "outputs": [
    {
     "data": {
      "image/png": "[encoded data removed]",
      "text/plain": [
       "<Figure size 1080x432 with 1 Axes>"
      ]
     },
     "metadata": {},
     "output_type": "display_data"
    }
   ],
   "source": [
    "plt.figure(figsize = (15,6))\n",
    "ax = sns.boxplot(x='typologie', y=\"prix_tva_normale\", data=data_clermont, linewidth=2.5 )"
   ]
  },
  {
   "cell_type": "code",
   "execution_count": 45,
   "metadata": {},
   "outputs": [
    {
     "data": {
      "image/png": "[encoded data removed]",
      "text/plain": [
       "<Figure size 2160x720 with 1 Axes>"
      ]
     },
     "metadata": {},
     "output_type": "display_data"
    }
   ],
   "source": [
    "plt.figure(figsize = (30,10))\n",
    "#sns.countplot('ville', data = data_clermont).set_title(\"Distribution du prix des biens immobiliers sur Clermont\");\n",
    "ax = sns.boxplot(x='surface', y=\"prix_tva_normale\", data=data_clermont, linewidth=5.5)"
   ]
  },
  {
   "cell_type": "code",
   "execution_count": 46,
   "metadata": {},
   "outputs": [
    {
     "data": {
      "text/plain": [
       "3.0    0.378771\n",
       "4.0    0.275173\n",
       "2.0    0.224282\n",
       "1.0    0.062159\n",
       "5.0    0.058524\n",
       "6.0    0.001091\n",
       "Name: nb_piece, dtype: float64"
      ]
     },
     "execution_count": 46,
     "metadata": {},
     "output_type": "execute_result"
    },
    {
     "data": {
      "image/png": "[encoded data removed]",
      "text/plain": [
       "<Figure size 720x360 with 1 Axes>"
      ]
     },
     "metadata": {},
     "output_type": "display_data"
    }
   ],
   "source": [
    "sns.countplot('nb_piece', data = data_clermont).set_title(\"Distribution de la variable 'Nombre pieces'\");\n",
    "#CONCLUSION : il faut regler ce probleme avant la Modelisation\n",
    "data['nb_piece'].value_counts(normalize = True)"
   ]
  },
  {
   "cell_type": "markdown",
   "metadata": {},
   "source": [
    "## Modelisation"
   ]
  },
  {
   "cell_type": "code",
   "execution_count": 11,
   "metadata": {},
   "outputs": [],
   "source": [
    "y = data_clermont[['prix_tva_normale']]\n",
    "X = data_clermont[['nb_piece', 'prix_tva_reduite','prix_tva_normale', 'prix_HT', 'prix_m2_HT', 'prix_m2_TTC', 'surface','etage', ]]"
   ]
  },
  {
   "cell_type": "code",
   "execution_count": 79,
   "metadata": {},
   "outputs": [],
   "source": [
    "X,y = make_regression(n_samples=20, n_features=1, noise=15)"
   ]
  },
  {
   "cell_type": "code",
   "execution_count": 80,
   "metadata": {},
   "outputs": [
    {
     "data": {
      "text/plain": [
       "<matplotlib.collections.PathCollection at 0x1e3610163d0>"
      ]
     },
     "execution_count": 80,
     "metadata": {},
     "output_type": "execute_result"
    },
    {
     "data": {
      "image/png": "[encoded data removed]",
      "text/plain": [
       "<Figure size 576x396 with 1 Axes>"
      ]
     },
     "metadata": {},
     "output_type": "display_data"
    }
   ],
   "source": [
    "#Pour observer le tableau\n",
    "plt.scatter(X, y)"
   ]
  },
  {
   "cell_type": "code",
   "execution_count": 12,
   "metadata": {},
   "outputs": [],
   "source": [
    "y_data = data[['prix_tva_normale']]\n",
    "X_data = data[['nb_piece', 'prix_tva_reduite','prix_tva_normale', 'prix_HT', 'prix_m2_HT', 'prix_m2_TTC', 'surface','etage', ]]"
   ]
  },
  {
   "cell_type": "code",
   "execution_count": 86,
   "metadata": {},
   "outputs": [
    {
     "data": {
      "text/plain": [
       "(402, 23)"
      ]
     },
     "execution_count": 86,
     "metadata": {},
     "output_type": "execute_result"
    }
   ],
   "source": [
    "data.shape"
   ]
  },
  {
   "cell_type": "code",
   "execution_count": 17,
   "metadata": {},
   "outputs": [],
   "source": [
    "X_data, y_data = make_regression(n_samples=280, n_features=1, noise=15)"
   ]
  },
  {
   "cell_type": "code",
   "execution_count": 18,
   "metadata": {},
   "outputs": [
    {
     "data": {
      "text/plain": [
       "<matplotlib.collections.PathCollection at 0x27575bc2490>"
      ]
     },
     "execution_count": 18,
     "metadata": {},
     "output_type": "execute_result"
    },
    {
     "data": {
      "image/png": "[encoded data removed]",
      "text/plain": [
       "<Figure size 432x288 with 1 Axes>"
      ]
     },
     "metadata": {
      "needs_background": "light"
     },
     "output_type": "display_data"
    }
   ],
   "source": [
    "#Pour observer le tableau\n",
    "plt.scatter(X_data, y_data)"
   ]
  },
  {
   "cell_type": "code",
   "execution_count": 14,
   "metadata": {},
   "outputs": [],
   "source": [
    "#Il faut reecrir les dimension du vecteur Y\n",
    "y = y_data.reshape(y_data.shape[0], 1)"
   ]
  },
  {
   "cell_type": "code",
   "execution_count": 19,
   "metadata": {},
   "outputs": [
    {
     "name": "stdout",
     "output_type": "stream",
     "text": [
      "[[ 0.71857275]\n",
      " [-0.13015698]]\n"
     ]
    }
   ],
   "source": [
    "#Fonction qui permet de generer les nbres aleatoires: random.randn() \n",
    "#Le vecteur theta a des dimensions (2,1): Contient 2 elts a et b (car c'est une regression lineaire)\n",
    "theta = np.random.randn(2, 1)\n",
    "\n",
    "#Verification des dimensions a=-0.99173532 et b=-0.83106243\n",
    "theta.shape\n",
    "print(theta)\n",
    "\n",
    "#Conclusion: On A X, y, THETA, ON PEUT COMMENCE à TRAVAILLER SUR LE MODELE\n",
    "#MODELE LINEAIRE : ECRIRE UNE FONCTION f(X)=aX + b  (F= k.theta)"
   ]
  },
  {
   "cell_type": "code",
   "execution_count": 20,
   "metadata": {},
   "outputs": [],
   "source": [
    "#Creer une matrice X\n",
    "#Permet de coller 2 vecteurs np On va colle le vecteur X 0 COTE DE CELUI DE 1\n",
    "k=np.hstack((X_data, np.ones(X_data.shape)))"
   ]
  },
  {
   "cell_type": "code",
   "execution_count": 21,
   "metadata": {},
   "outputs": [
    {
     "data": {
      "text/plain": [
       "array([[-0.01111473],\n",
       "       [ 1.34047006],\n",
       "       [ 1.55733806],\n",
       "       [-1.47935859],\n",
       "       [ 0.45953984],\n",
       "       [-0.01619941],\n",
       "       [-1.14971466],\n",
       "       [-0.95977148],\n",
       "       [-1.24566967],\n",
       "       [-1.08911247],\n",
       "       [-1.20074775],\n",
       "       [ 0.21891054],\n",
       "       [ 1.00031153],\n",
       "       [-1.03868699],\n",
       "       [ 0.40067801],\n",
       "       [ 0.35617819],\n",
       "       [-0.07728983],\n",
       "       [ 0.46778335],\n",
       "       [-0.15553104],\n",
       "       [ 0.15915139],\n",
       "       [ 0.86546306],\n",
       "       [-0.12522521],\n",
       "       [ 1.06069723],\n",
       "       [-1.24923231],\n",
       "       [ 1.80590443],\n",
       "       [ 0.25843858],\n",
       "       [ 0.11176968],\n",
       "       [-1.94751869],\n",
       "       [ 0.47536619],\n",
       "       [-0.47933248],\n",
       "       [ 0.39278651],\n",
       "       [ 0.98357227],\n",
       "       [-0.59282123],\n",
       "       [ 0.72016559],\n",
       "       [-0.97430266],\n",
       "       [-0.34368654],\n",
       "       [-0.98671185],\n",
       "       [ 0.52470327],\n",
       "       [ 0.31985606],\n",
       "       [-0.15764657],\n",
       "       [-1.02632064],\n",
       "       [ 0.67388291],\n",
       "       [ 0.45007424],\n",
       "       [ 0.08496707],\n",
       "       [ 0.51503875],\n",
       "       [-1.28775821],\n",
       "       [-0.84466184],\n",
       "       [ 1.2005431 ],\n",
       "       [ 0.20130101],\n",
       "       [-0.45065683],\n",
       "       [-0.02263064],\n",
       "       [-0.13056516],\n",
       "       [ 0.02374144],\n",
       "       [-0.39846396],\n",
       "       [-0.41883366],\n",
       "       [-0.41220638],\n",
       "       [-1.12175203],\n",
       "       [-0.03006538],\n",
       "       [-0.11114851],\n",
       "       [ 0.98018218],\n",
       "       [ 0.21054702],\n",
       "       [-1.25643714],\n",
       "       [-0.57690035],\n",
       "       [ 0.16235326],\n",
       "       [-0.61811224],\n",
       "       [-0.853819  ],\n",
       "       [ 0.8241177 ],\n",
       "       [-0.31582579],\n",
       "       [-0.14765141],\n",
       "       [-0.66749958],\n",
       "       [-0.82271632],\n",
       "       [-0.32685414],\n",
       "       [ 0.79687365],\n",
       "       [-0.99715224],\n",
       "       [ 0.02900671],\n",
       "       [ 0.90445311],\n",
       "       [ 0.26018215],\n",
       "       [ 0.21019648],\n",
       "       [-0.6160377 ],\n",
       "       [ 0.10842485],\n",
       "       [-0.71675719],\n",
       "       [ 0.40420009],\n",
       "       [-0.14392992],\n",
       "       [ 0.26207766],\n",
       "       [ 0.51274266],\n",
       "       [-0.32340256],\n",
       "       [-0.74768594],\n",
       "       [ 0.27504426],\n",
       "       [-0.50586078],\n",
       "       [-0.77460685],\n",
       "       [-0.7927725 ],\n",
       "       [ 0.78047826],\n",
       "       [ 0.88488667],\n",
       "       [ 0.70004231],\n",
       "       [-0.68159679],\n",
       "       [ 0.75716372],\n",
       "       [-0.18146084],\n",
       "       [-0.35736934],\n",
       "       [-0.47494854],\n",
       "       [-0.44589493],\n",
       "       [-1.22362492],\n",
       "       [-0.14688739],\n",
       "       [-1.05462252],\n",
       "       [-1.04611611],\n",
       "       [ 0.34748351],\n",
       "       [-0.05548502],\n",
       "       [-0.49251645],\n",
       "       [ 0.65376388],\n",
       "       [-0.63954507],\n",
       "       [-0.80280602],\n",
       "       [ 0.32010869],\n",
       "       [-0.23043599],\n",
       "       [-0.51834114],\n",
       "       [ 0.2640366 ],\n",
       "       [-0.55261857],\n",
       "       [ 0.20637732],\n",
       "       [-0.91121956],\n",
       "       [-0.37754421],\n",
       "       [-0.13682723],\n",
       "       [-1.91696084],\n",
       "       [ 0.63114829],\n",
       "       [-0.67308827],\n",
       "       [-0.00886849],\n",
       "       [ 0.6373139 ],\n",
       "       [-0.36785781],\n",
       "       [ 0.94774028],\n",
       "       [-0.77042398],\n",
       "       [-0.62561706],\n",
       "       [ 0.95717442],\n",
       "       [-0.68810404],\n",
       "       [ 0.4715852 ],\n",
       "       [ 0.35547745],\n",
       "       [-0.38421349],\n",
       "       [-0.10496301],\n",
       "       [ 1.05242092],\n",
       "       [-0.53183043],\n",
       "       [-0.01395992],\n",
       "       [ 0.31934767],\n",
       "       [ 0.34200929],\n",
       "       [ 0.08249431],\n",
       "       [ 1.10592815],\n",
       "       [ 0.53785326],\n",
       "       [-0.51876329],\n",
       "       [-0.00398039],\n",
       "       [ 0.67510114],\n",
       "       [ 0.36773178],\n",
       "       [-0.25914027],\n",
       "       [ 0.0097033 ],\n",
       "       [-0.58100803],\n",
       "       [-0.23165335],\n",
       "       [-1.08457924],\n",
       "       [-0.00656418],\n",
       "       [ 0.79066833],\n",
       "       [ 0.01086707],\n",
       "       [-0.5656284 ],\n",
       "       [ 0.31006333],\n",
       "       [-0.08445492],\n",
       "       [-0.41661717],\n",
       "       [-0.65788311],\n",
       "       [-0.97671762],\n",
       "       [ 0.20602205],\n",
       "       [-1.56848293],\n",
       "       [-0.69431353],\n",
       "       [-0.34066328],\n",
       "       [ 0.01470593],\n",
       "       [-0.18627586],\n",
       "       [-0.8670093 ],\n",
       "       [-1.30181146],\n",
       "       [-0.84048698],\n",
       "       [-0.01304498],\n",
       "       [ 0.21464003],\n",
       "       [-0.02252764],\n",
       "       [-0.59927656],\n",
       "       [-0.29738081],\n",
       "       [-1.29228285],\n",
       "       [-0.50212083],\n",
       "       [-0.12369292],\n",
       "       [-0.74043356],\n",
       "       [ 0.09354465],\n",
       "       [ 0.98736898],\n",
       "       [-0.21840144],\n",
       "       [-0.12959541],\n",
       "       [-0.32511995],\n",
       "       [-0.51011552],\n",
       "       [-0.33957029],\n",
       "       [ 1.13325478],\n",
       "       [-0.08179978],\n",
       "       [ 0.02443647],\n",
       "       [-0.12454995],\n",
       "       [ 0.5266186 ],\n",
       "       [ 0.63491251],\n",
       "       [-0.35560043],\n",
       "       [-0.07219186],\n",
       "       [ 0.42500147],\n",
       "       [-0.0588957 ],\n",
       "       [ 0.1084511 ],\n",
       "       [-0.34382631],\n",
       "       [ 0.3210013 ],\n",
       "       [ 0.21068658],\n",
       "       [-1.02247887],\n",
       "       [ 0.18004497],\n",
       "       [-0.98108664],\n",
       "       [-0.1051947 ],\n",
       "       [-1.11761269],\n",
       "       [-1.1664609 ],\n",
       "       [ 0.48752328],\n",
       "       [-0.45407959],\n",
       "       [ 0.09169506],\n",
       "       [-1.39793142],\n",
       "       [-0.42369464],\n",
       "       [ 0.57933189],\n",
       "       [-1.86750129],\n",
       "       [ 0.00580332],\n",
       "       [ 0.77939342],\n",
       "       [ 1.02842874],\n",
       "       [-0.24686026],\n",
       "       [-0.69999993],\n",
       "       [-0.00570684],\n",
       "       [-0.30417177],\n",
       "       [-0.70717093],\n",
       "       [-0.42698147],\n",
       "       [-1.10092567],\n",
       "       [ 0.26812547],\n",
       "       [ 0.99565764],\n",
       "       [ 0.47371148],\n",
       "       [-0.37124318],\n",
       "       [-0.23543479],\n",
       "       [-0.67190487],\n",
       "       [-0.95633239],\n",
       "       [-1.13469073],\n",
       "       [ 0.51981896],\n",
       "       [-1.30532577],\n",
       "       [ 1.15673301],\n",
       "       [-0.5374177 ],\n",
       "       [ 0.66355388],\n",
       "       [-1.61069137],\n",
       "       [ 0.51398996],\n",
       "       [ 0.99912493],\n",
       "       [-0.61197058],\n",
       "       [ 0.83151523],\n",
       "       [ 0.16868562],\n",
       "       [ 0.47620611],\n",
       "       [ 0.41306135],\n",
       "       [-0.9716144 ],\n",
       "       [ 0.3085886 ],\n",
       "       [-0.75678465],\n",
       "       [-0.03959756],\n",
       "       [ 1.45354325],\n",
       "       [-0.3047335 ],\n",
       "       [-0.30817381],\n",
       "       [ 0.27691006],\n",
       "       [-0.39175862],\n",
       "       [-0.23495451],\n",
       "       [-0.22627053],\n",
       "       [-1.1651694 ],\n",
       "       [ 1.27619941],\n",
       "       [ 0.5854224 ],\n",
       "       [ 0.81497648],\n",
       "       [-0.93609902],\n",
       "       [-1.71315619],\n",
       "       [ 0.20303094],\n",
       "       [-0.13985404],\n",
       "       [ 0.23588998],\n",
       "       [-0.61234898],\n",
       "       [ 0.52862295],\n",
       "       [-1.21081083],\n",
       "       [ 0.56622367],\n",
       "       [-1.81162546],\n",
       "       [ 0.12918081],\n",
       "       [-1.23563655],\n",
       "       [-0.67549567],\n",
       "       [-1.05860956],\n",
       "       [ 0.06674108],\n",
       "       [-0.54641546],\n",
       "       [ 0.29440707],\n",
       "       [ 0.2941661 ],\n",
       "       [ 0.38942668],\n",
       "       [-0.83808264],\n",
       "       [ 0.60950735],\n",
       "       [-0.80763233]])"
      ]
     },
     "execution_count": 21,
     "metadata": {},
     "output_type": "execute_result"
    }
   ],
   "source": [
    "# Le modele est disponible on peut l'utilise au tant de fois que l'on veut\n",
    "\n",
    "def modele(k, theta):\n",
    "    #returne le produit matricienne de \n",
    "    return k.dot(theta)\n",
    "\n",
    "# Texter le model\n",
    "modele(k, theta)"
   ]
  },
  {
   "cell_type": "code",
   "execution_count": 22,
   "metadata": {},
   "outputs": [
    {
     "data": {
      "text/plain": [
       "[<matplotlib.lines.Line2D at 0x27575c30850>]"
      ]
     },
     "execution_count": 22,
     "metadata": {},
     "output_type": "execute_result"
    },
    {
     "data": {
      "image/png": "[encoded data removed]",
      "text/plain": [
       "<Figure size 432x288 with 1 Axes>"
      ]
     },
     "metadata": {
      "needs_background": "light"
     },
     "output_type": "display_data"
    }
   ],
   "source": [
    "#Trace sur le model\n",
    "plt.scatter(X_data, y_data)\n",
    "#Le model EN ROUGE pas aboutit\n",
    "plt.plot(X_data, modele(k, theta), c='r')"
   ]
  },
  {
   "cell_type": "markdown",
   "metadata": {},
   "source": [
    "### CALCUL DE LA FONCTION COUT (ensemble des erreurs) J(theta)=1/2m*somme(k*theta-Y)^2"
   ]
  },
  {
   "cell_type": "code",
   "execution_count": 23,
   "metadata": {},
   "outputs": [
    {
     "data": {
      "text/plain": [
       "array([2.70840986e+02, 5.64974509e+02, 1.51672585e+03, 1.14533797e+03,\n",
       "       8.72524467e+01, 3.30472354e+02, 2.91869650e+02, 1.04671783e+02,\n",
       "       8.88856307e+02, 2.39889676e+01, 2.99205577e+02, 1.17530179e+01,\n",
       "       1.95782412e+02, 2.63173182e+02, 1.35450685e+02, 3.82746806e+02,\n",
       "       1.25997033e+02, 1.40865276e+03, 1.69803337e+02, 7.23678339e+01,\n",
       "       1.21842040e+03, 7.34731891e+01, 2.10547880e+01, 6.62392989e+02,\n",
       "       1.11575068e+03, 3.39062536e+02, 1.08355210e+02, 1.93174141e+03,\n",
       "       2.26485593e+01, 1.47169981e+02, 6.60810887e+01, 7.17980671e+02,\n",
       "       2.33406872e+01, 1.19683687e+02, 5.34474149e+02, 1.00988727e+02,\n",
       "       4.75517116e+02, 4.33510432e+02, 7.23122777e+01, 1.02157956e+03,\n",
       "       5.51346834e+02, 5.18439338e+02, 4.23619065e+02, 4.57773271e+01,\n",
       "       6.33028598e+02, 6.05387232e+02, 2.24376883e+02, 1.07143424e+03,\n",
       "       2.86822013e+02, 2.30137039e+00, 3.54481008e+02, 1.19055233e+01,\n",
       "       4.64240127e+01, 2.69910148e+01, 3.83054985e+02, 3.45224196e+02,\n",
       "       5.14943315e+02, 1.08583030e+01, 1.84134546e+01, 6.16029190e+02,\n",
       "       1.39054413e+02, 5.28583668e+02, 2.87550038e+00, 4.66236434e+00,\n",
       "       3.34706371e-01, 2.77328277e+01, 7.99662653e+01, 4.64226282e-01,\n",
       "       9.59723810e+01, 5.72971225e+01, 3.37461848e+00, 3.37158524e+01,\n",
       "       2.90649880e+01, 3.07473304e+02, 1.91747339e+01, 1.56374235e+02,\n",
       "       4.07295416e+02, 1.74411937e+02, 5.26714043e+01, 5.58216984e+00,\n",
       "       2.34573013e+02, 1.17402431e+02, 1.28891288e+02, 1.41977591e+02,\n",
       "       4.28389451e+02, 1.34056164e+00, 6.52006059e+02, 1.52255049e+02,\n",
       "       5.60320444e+00, 8.37464411e+00, 5.33117142e+01, 4.32142620e+02,\n",
       "       1.71965824e+03, 9.95326698e+02, 4.66829186e+01, 1.84325687e+02,\n",
       "       1.15437990e+00, 6.00573241e+01, 1.33649069e+01, 3.57958579e+01,\n",
       "       4.89335651e+02, 1.73196928e+00, 2.67326189e+02, 4.38117824e+02,\n",
       "       7.58721239e+01, 2.59902706e+00, 3.48208992e+02, 1.48635722e+02,\n",
       "       2.32615145e+00, 3.37899699e+02, 1.51176368e+02, 2.06002295e+01,\n",
       "       3.54693094e+02, 1.81087455e+01, 2.70298399e+02, 7.80811965e+00,\n",
       "       2.36491745e+02, 3.82881159e+00, 4.00973981e+00, 6.49547686e+02,\n",
       "       2.43106275e+01, 2.63437597e+02, 5.54483094e+01, 3.75397434e+01,\n",
       "       3.03787485e+00, 7.21303565e+02, 8.79831297e+00, 2.91893717e+02,\n",
       "       8.44036587e+02, 3.05398608e+00, 1.67664335e+02, 8.93597090e+02,\n",
       "       3.38172840e+01, 1.14241236e+01, 9.68564083e+01, 1.35754736e+01,\n",
       "       6.15425734e+00, 3.58809265e+02, 2.49493692e-01, 6.14729589e+01,\n",
       "       1.58683461e+03, 1.86717006e+02, 3.34795361e+01, 3.10283328e+02,\n",
       "       7.82291063e+01, 9.77708167e+02, 1.16257813e+02, 7.55797623e+00,\n",
       "       2.88652387e+02, 2.03632293e+01, 2.98733535e+02, 1.06073892e+01,\n",
       "       5.41026617e+02, 7.93887948e+01, 2.38666383e+01, 2.51854073e+02,\n",
       "       2.23886402e+02, 2.19356729e+02, 1.22051641e+01, 3.04655614e+02,\n",
       "       7.71821753e+01, 3.21398229e+03, 8.17176565e-01, 4.95412829e+00,\n",
       "       4.17063513e+00, 1.33682790e+01, 7.93679276e-01, 7.81977765e+02,\n",
       "       1.31572513e+02, 2.87649213e+01, 1.26321966e+01, 4.95142186e-01,\n",
       "       4.66826035e+02, 1.07372069e+00, 1.04817609e+03, 2.61536597e+02,\n",
       "       5.35634668e+00, 2.20000506e+02, 6.82096509e-01, 8.56959445e+02,\n",
       "       5.79996078e+00, 2.26702785e+01, 4.47549426e+01, 3.93408672e+01,\n",
       "       1.63904808e+02, 3.94213941e+02, 7.84279903e+01, 2.75239823e+01,\n",
       "       1.15256713e+02, 8.59215395e+02, 2.17695047e+02, 9.78428413e+00,\n",
       "       1.41943627e+00, 3.32174003e+02, 1.41924355e+01, 5.08335864e+01,\n",
       "       7.25442682e+01, 1.28849475e+02, 3.82726627e+01, 2.33177498e+02,\n",
       "       4.47950447e+02, 1.35579473e+01, 1.50936089e+01, 3.88384382e+02,\n",
       "       2.30229241e+02, 2.61221983e+02, 5.23609228e+02, 2.05656332e+01,\n",
       "       4.19862335e+02, 1.69382612e+02, 6.00513727e+01, 1.29656808e+03,\n",
       "       4.68153548e-01, 4.58648445e+02, 2.89921190e+02, 3.66781906e+01,\n",
       "       3.78284045e+02, 6.46123031e+02, 3.11083741e+01, 4.60302171e+02,\n",
       "       9.31677694e+01, 2.37250318e+02, 5.40823443e+01, 1.02383802e+03,\n",
       "       1.26658373e+02, 1.19118746e+02, 1.22379106e+02, 4.46901917e+01,\n",
       "       1.28810177e+03, 6.36536045e+02, 8.70636948e+02, 7.10399979e+02,\n",
       "       1.75195572e+02, 3.77176691e+01, 2.97519073e+02, 1.00969760e+03,\n",
       "       5.74682842e+01, 3.43362669e+02, 8.54382677e+02, 3.83971153e+02,\n",
       "       6.38182546e+01, 4.61382651e+02, 4.04998381e+01, 3.57268750e+02,\n",
       "       1.57650214e+02, 6.55921792e+02, 1.21887759e+00, 9.10269776e+02,\n",
       "       8.56635880e+00, 2.26392855e+01, 8.42463026e+02, 9.98358207e+01,\n",
       "       2.52885039e+01, 1.94268621e+01, 7.81258892e+02, 2.02579666e+03,\n",
       "       6.32672382e+02, 9.30738964e+02, 1.00820612e+02, 7.15496407e+02,\n",
       "       2.52068691e+01, 2.06128192e+01, 2.74153759e+02, 1.16253384e+02,\n",
       "       3.24215978e+02, 1.46943176e+02, 1.85736756e+02, 1.65070045e+03,\n",
       "       5.09830933e+01, 4.55215540e+02, 4.37371690e+02, 2.48885226e+00,\n",
       "       5.56316524e+01, 3.69602240e+02, 1.28318326e+02, 8.57736847e+01,\n",
       "       7.27230677e+02, 1.28409673e+02, 1.27484522e+02, 2.76711524e+00])"
      ]
     },
     "execution_count": 23,
     "metadata": {},
     "output_type": "execute_result"
    }
   ],
   "source": [
    "#Creer une fonction cout avec 3 variables\n",
    "def cost_function(k, y_data, theta):\n",
    "    m=len(y_data) #le vecteur Y a une longuer de 100\n",
    "    return 1/(2*m) * sum((modele(k, theta) -y_data)**2)\n",
    "\n",
    "#Faire le texte: donne un cout enorme CAR LE COUT EST SENCE TENDRE VERS ZERO\n",
    "cost_function(k, y_data, theta)"
   ]
  },
  {
   "cell_type": "markdown",
   "metadata": {},
   "source": [
    "### CALCUL DU GRADIENT FORMULE dJ(theta)/d(theta)=1/m * k.T*(k*theta - Y)"
   ]
  },
  {
   "cell_type": "code",
   "execution_count": 24,
   "metadata": {},
   "outputs": [
    {
     "data": {
      "text/plain": [
       "array([[ 1.30049861e-01,  1.49834182e+00,  2.01478133e+00,\n",
       "        -4.61635742e-01,  1.00713742e+00,  7.14454966e-02,\n",
       "         1.08708297e-01,  3.42059892e-01, -3.24525007e-01,\n",
       "         5.23971070e-01,  1.01445332e-01,  8.05172267e-01,\n",
       "         1.16555145e+00,  1.38037111e-01,  1.08539781e+00,\n",
       "         1.35521695e+00,  1.07131529e+00,  1.96669438e+00,\n",
       "         2.46701865e-01,  9.78716690e-01,  1.87733001e+00,\n",
       "         9.80922633e-01,  5.34553800e-01, -1.85790866e-01,\n",
       "         1.82618337e+00,  1.31606511e+00,  3.35980688e-01,\n",
       "        -8.05619485e-01,  8.50800856e-01,  2.77331752e-01,\n",
       "         9.65835308e-01,  1.60132203e+00,  5.26250270e-01,\n",
       "         1.06161380e+00, -9.66832981e-02,  3.48246664e-01,\n",
       "        -5.20191975e-02,  1.39799996e+00,  4.00914710e-01,\n",
       "        -3.97637158e-01, -1.09006034e-01,  1.46431091e+00,\n",
       "         1.38986874e+00,  9.19349140e-01,  1.54567661e+00,\n",
       "        -1.47253558e-01,  1.80365975e-01,  1.80338081e+00,\n",
       "         1.26576117e+00,  6.41000756e-01,  1.33015723e+00,\n",
       "         8.05934663e-01,  4.58546189e-01,  5.13801064e-01,\n",
       "         2.40351074e-02,  5.77856614e-02, -8.21736179e-02,\n",
       "         8.00593872e-01,  8.34780764e-01,  1.53410141e+00,\n",
       "         1.09063584e+00, -9.23355437e-02,  6.34604272e-01,\n",
       "         7.61250432e-01,  6.79730590e-01,  5.11377348e-01,\n",
       "         9.93557546e-01,  7.05588489e-01,  3.56857980e-01,\n",
       "         4.32761914e-01,  7.49926527e-01,  4.92917086e-01,\n",
       "         8.72414566e-01,  9.33658389e-02,  8.37788318e-01,\n",
       "         1.11491083e+00,  1.37623926e+00,  1.13879912e+00,\n",
       "         4.43401204e-01,  6.11173987e-01,  1.68908102e-01,\n",
       "         1.05804543e+00,  1.07568126e+00,  1.09483494e+00,\n",
       "         1.39380197e+00,  7.25328354e-01, -1.78896430e-01,\n",
       "         1.10926482e+00,  6.11019197e-01,  7.86758579e-01,\n",
       "         4.41901238e-01,  1.39688112e+00,  2.10065464e+00,\n",
       "         1.76309074e+00,  9.21621186e-01,  1.15140232e+00,\n",
       "         6.57363197e-01,  9.52901872e-01,  5.66528049e-01,\n",
       "         8.92627601e-01, -6.27256105e-02,  6.48308242e-01,\n",
       "         1.33696845e-01, -2.22356934e-02,  3.93866500e-01,\n",
       "         7.41933557e-01,  5.50575740e-02,  1.10424048e+00,\n",
       "         6.40707439e-01,  6.45306581e-02,  2.71746366e-01,\n",
       "         5.36258516e-01,  4.91711700e-02,  8.33559337e-01,\n",
       "         1.30611302e-01,  5.96203478e-01,  1.66779995e-01,\n",
       "         6.25371830e-01,  6.23765277e-01, -1.77256636e-01,\n",
       "         8.56668340e-01,  1.37759756e-01,  9.42559567e-01,\n",
       "         8.97544078e-01,  7.46594412e-01,  1.60342973e+00,\n",
       "         5.90265252e-01,  1.08684320e-01,  1.67813484e+00,\n",
       "         7.46758272e-01,  1.13001468e+00,  1.70674713e+00,\n",
       "         8.86901057e-01,  5.76009398e-01,  1.02419576e+00,\n",
       "         8.13977209e-01,  6.07067270e-01,  1.33405775e+00,\n",
       "         6.91151475e-01,  9.55997819e-01,  2.04506402e+00,\n",
       "         1.15439120e+00,  8.85906816e-01,  1.28887548e+00,\n",
       "         9.90229261e-01,  1.75354628e+00,  3.23278173e-01,\n",
       "         7.81755859e-01,  1.11922358e-01,  5.37154882e-01,\n",
       "         1.01909977e-01,  7.99275548e-01,  1.48101168e+00,\n",
       "         3.87064873e-01,  5.24398746e-01,  1.22947631e+00,\n",
       "         1.19859643e+00,  1.86103113e-01,  5.72101859e-01,\n",
       "         9.61070262e-02,  9.88205484e-01, -1.23914030e+00,\n",
       "         6.64085870e-01,  6.15944992e-01,  7.57151311e-01,\n",
       "         5.66512210e-01,  7.14898844e-01, -2.61574289e-01,\n",
       "         2.99837816e-01,  5.08058976e-01,  8.09500756e-01,\n",
       "         6.72838687e-01, -4.52055769e-02,  6.58837987e-01,\n",
       "        -4.11704633e-01,  1.39756897e-01,  6.12855397e-01,\n",
       "         1.85363744e-01,  6.67337374e-01,  1.68567470e+00,\n",
       "         7.69934304e-01,  5.28641176e-01,  4.62763339e-01,\n",
       "         4.77017399e-01,  1.12504341e+00,  1.36511833e+00,\n",
       "         3.88907907e-01,  8.67463719e-01,  1.05465722e+00,\n",
       "         1.68698509e+00,  1.19150351e+00,  7.94834813e-01,\n",
       "         6.52930422e-01,  1.30966563e+00,  5.62700277e-01,\n",
       "         4.47758041e-01,  4.00450157e-01,  1.07561854e+00,\n",
       "         8.99575992e-01,  1.70461375e-01,  1.40970553e+00,\n",
       "         8.13895507e-01,  5.58658917e-01,  1.94170521e-02,\n",
       "         1.73758296e-01,  1.23943196e+00, -8.86450043e-02,\n",
       "         8.43131046e-01, -7.23557364e-03,  2.47251896e-01,\n",
       "         9.52888779e-01, -5.35310085e-01,  6.73788614e-01,\n",
       "         1.41825642e+00,  1.26886740e+00,  8.95129842e-01,\n",
       "         2.81965914e-02, -1.74967125e-01,  5.00740526e-01,\n",
       "        -4.00492123e-02,  1.01774904e+00,  1.65941031e-01,\n",
       "         4.40107938e-01,  1.77835885e+00,  1.07231731e+00,\n",
       "         3.18786774e-01,  1.06578637e+00,  4.62928522e-01,\n",
       "        -5.31303044e-01, -1.68525384e-01,  1.69359317e+00,\n",
       "        -2.16975211e-01,  1.13980819e+00,  8.98039173e-01,\n",
       "         1.27641298e+00, -3.91293375e-01,  9.47143409e-01,\n",
       "         1.32002702e+00, -3.04655763e-01,  1.35628114e+00,\n",
       "         4.18470919e-01,  1.42042580e+00,  9.05633186e-01,\n",
       "         4.68478920e-02,  1.11664461e+00, -1.81501947e-01,\n",
       "         7.23289534e-01,  1.71619333e+00,  7.87896026e-01,\n",
       "         5.28752566e-01,  1.67721282e+00,  3.50206473e-01,\n",
       "         5.19494064e-01,  8.38771010e-01, -2.61136768e-01,\n",
       "         2.22111601e+00,  1.54543566e+00,  1.72767296e+00,\n",
       "         3.48531739e-01, -2.20223000e-01,  8.59748251e-01,\n",
       "         8.43309037e-01,  1.25288596e+00,  1.05623491e+00,\n",
       "         1.30218934e+00,  2.77650209e-01,  2.26351751e-01,\n",
       "        -6.92552751e-01,  9.32119398e-01, -3.60033981e-02,\n",
       "        -2.16288121e-02,  6.38823587e-01,  4.36541040e-01,\n",
       "         3.58372944e-02,  1.07482088e+00,  3.75091354e-01,\n",
       "         1.60717725e+00,  3.04561900e-01,  1.07356536e+00,\n",
       "         6.35753768e-01],\n",
       "       [ 2.32634118e+01, -3.36073411e+01, -5.50722802e+01,\n",
       "         4.78558283e+01, -1.31912566e+01,  2.56992036e+01,\n",
       "         2.41504380e+01,  1.44515716e+01,  4.21570513e+01,\n",
       "         6.89073962e+00,  2.44523109e+01, -4.79691496e+00,\n",
       "        -1.97754692e+01,  2.29314352e+01, -1.64440180e+01,\n",
       "        -2.76585966e+01, -1.58587018e+01, -5.30736270e+01,\n",
       "         1.84149676e+01, -1.20099969e+01, -4.93593472e+01,\n",
       "        -1.21016832e+01,  6.45088624e+00,  3.63908002e+01,\n",
       "        -4.72335233e+01, -2.60313163e+01,  1.47042435e+01,\n",
       "         6.21529337e+01, -6.69339046e+00,  1.71418878e+01,\n",
       "        -1.14746039e+01, -3.78875402e+01,  6.79600851e+00,\n",
       "        -1.54554758e+01,  3.26871940e+01,  1.41944289e+01,\n",
       "         3.08308059e+01, -2.94368005e+01,  1.20053702e+01,\n",
       "         4.51958348e+01,  3.31993678e+01, -3.21929035e+01,\n",
       "        -2.90988400e+01, -9.54248455e+00, -3.55747319e+01,\n",
       "         3.47890618e+01,  2.11721072e+01, -4.62857735e+01,\n",
       "        -2.39405176e+01,  2.02659764e+00, -2.66170316e+01,\n",
       "        -4.82860267e+00,  9.61001470e+00,  7.31343879e+00,\n",
       "         2.76697367e+01,  2.62669517e+01,  3.20841236e+01,\n",
       "        -4.60662166e+00, -6.02754232e+00, -3.50936282e+01,\n",
       "        -1.66617281e+01,  3.25064870e+01,  2.29245676e+00,\n",
       "        -2.97137778e+00,  4.16857252e-01,  7.41417647e+00,\n",
       "        -1.26268321e+01, -6.57882809e-01,  1.38365140e+01,\n",
       "         1.06816947e+01, -2.50071873e+00,  8.18144621e+00,\n",
       "        -7.59172795e+00,  2.47881215e+01, -6.15254623e+00,\n",
       "        -1.76706770e+01, -2.85323534e+01, -1.86635536e+01,\n",
       "         1.02394905e+01,  3.26629712e+00,  2.16483344e+01,\n",
       "        -1.53071623e+01, -1.60401662e+01, -1.68362567e+01,\n",
       "        -2.92623181e+01, -1.47833707e+00,  3.61042446e+01,\n",
       "        -1.74360103e+01,  3.27273068e+00, -4.03158101e+00,\n",
       "         1.03018341e+01, -2.93902977e+01, -5.86414600e+01,\n",
       "        -4.46111842e+01, -9.63691830e+00, -1.91873847e+01,\n",
       "         1.34652034e+00, -1.09370474e+01,  5.12193041e+00,\n",
       "        -8.43184873e+00,  3.12757999e+01,  1.72287428e+00,\n",
       "         2.31118311e+01,  2.95929046e+01,  1.22983172e+01,\n",
       "        -2.16850440e+00,  2.63803400e+01, -1.72271821e+01,\n",
       "         2.03878888e+00,  2.59866072e+01,  1.73740350e+01,\n",
       "         6.38003262e+00,  2.66249985e+01, -5.97677573e+00,\n",
       "         2.32400765e+01,  3.88852112e+00,  2.17367856e+01,\n",
       "         2.67618766e+00,  2.74296133e+00,  3.60360893e+01,\n",
       "        -6.93726259e+00,  2.29429630e+01, -1.05071869e+01,\n",
       "        -8.63619384e+00, -2.36222500e+00, -3.79751430e+01,\n",
       "         4.13533350e+00,  2.41514346e+01, -4.10801355e+01,\n",
       "        -2.36903554e+00, -1.82984433e+01, -4.22693570e+01,\n",
       "        -8.19383459e+00,  4.72785410e+00, -1.39002580e+01,\n",
       "        -5.16287754e+00,  3.43698587e+00, -2.67791502e+01,\n",
       "        -5.78326093e-02, -1.10657252e+01, -5.63309292e+01,\n",
       "        -1.93116123e+01, -8.15251062e+00, -2.49012251e+01,\n",
       "        -1.24884975e+01, -4.42144851e+01,  1.52322022e+01,\n",
       "        -3.82365136e+00,  2.40168510e+01,  6.34277667e+00,\n",
       "         2.44329987e+01, -4.55182773e+00, -3.28870429e+01,\n",
       "         1.25810153e+01,  6.87296398e+00, -2.24323985e+01,\n",
       "        -2.11489281e+01,  2.09336527e+01,  4.89026435e+00,\n",
       "         2.46741886e+01, -1.24043826e+01,  8.01714970e+01,\n",
       "         1.06710372e+00,  3.06799834e+00, -2.80100473e+00,\n",
       "         5.12258872e+00, -1.04485204e+00,  3.95406106e+01,\n",
       "         1.62064612e+01,  7.55209904e+00, -4.97682131e+00,\n",
       "         7.03307613e-01,  3.05476092e+01,  1.28522317e+00,\n",
       "         4.57805257e+01,  2.28599552e+01,  3.19641214e+00,\n",
       "         2.09643834e+01,  9.31960431e-01, -4.13935170e+01,\n",
       "        -3.33230833e+00,  6.69663454e+00,  9.43473595e+00,\n",
       "         8.84228995e+00, -1.80918206e+01, -2.80701307e+01,\n",
       "         1.25044127e+01, -7.38595436e+00, -1.51663372e+01,\n",
       "        -4.14479812e+01, -2.08541231e+01, -4.36725606e+00,\n",
       "         1.53076117e+00, -2.57653326e+01,  5.28102531e+00,\n",
       "         1.00584059e+01,  1.20246785e+01, -1.60375592e+01,\n",
       "        -8.72064692e+00,  2.15837752e+01, -2.99233229e+01,\n",
       "        -5.15948173e+00,  5.44899762e+00,  2.78616784e+01,\n",
       "         2.14467443e+01, -2.28461884e+01,  3.23530959e+01,\n",
       "        -6.37460773e+00,  2.89694499e+01,  1.83921065e+01,\n",
       "        -1.09365032e+01,  5.09179784e+01,  6.63825521e-01,\n",
       "        -3.02787260e+01, -2.40696227e+01, -8.53585019e+00,\n",
       "         2.74967716e+01,  3.59409296e+01,  7.85627809e+00,\n",
       "         3.03332936e+01, -1.36323107e+01,  2.17716557e+01,\n",
       "         1.03763696e+01, -4.52457777e+01, -1.59003492e+01,\n",
       "         1.54188796e+01, -1.56289017e+01,  9.42787042e+00,\n",
       "         5.07514325e+01,  3.56731895e+01, -4.17226348e+01,\n",
       "         3.76869250e+01, -1.87054939e+01, -8.65677165e+00,\n",
       "        -2.43832423e+01,  4.49321662e+01, -1.06977066e+01,\n",
       "        -2.61959862e+01,  4.13312196e+01, -2.77028277e+01,\n",
       "         1.12756759e+01, -3.03688929e+01, -8.97240400e+00,\n",
       "         2.67215617e+01, -1.77427389e+01,  3.62125384e+01,\n",
       "        -1.39359693e+00, -4.26619726e+01, -4.07885705e+00,\n",
       "         6.69200480e+00, -4.10418129e+01,  1.41129727e+01,\n",
       "         7.07681884e+00, -6.19339015e+00,  3.95224258e+01,\n",
       "        -6.36482339e+01, -3.55647174e+01, -4.31391039e+01,\n",
       "         1.41825802e+01,  3.78219139e+01, -7.06527391e+00,\n",
       "        -6.38200561e+00, -2.34053813e+01, -1.52319114e+01,\n",
       "        -2.54545932e+01,  1.71286517e+01,  1.92607858e+01,\n",
       "         5.74535052e+01, -1.00732589e+01,  3.01651361e+01,\n",
       "         2.95676806e+01,  2.11708804e+00,  1.05246217e+01,\n",
       "         2.71791986e+01, -1.60044059e+01,  1.30786745e+01,\n",
       "        -3.81309023e+01,  1.60101126e+01, -1.59522224e+01,\n",
       "         2.24467987e+00]])"
      ]
     },
     "execution_count": 24,
     "metadata": {},
     "output_type": "execute_result"
    }
   ],
   "source": [
    "# Creer une fonction \n",
    "\n",
    "def gradiant(k, y_data, theta):\n",
    "    m = len(y_data)\n",
    "    return 1/m * k.T.dot(modele(k, theta) - y_data) \n",
    "\n",
    "gradiant(k, y_data, theta)"
   ]
  },
  {
   "cell_type": "markdown",
   "metadata": {},
   "source": [
    "### ALGO DE LA DESCENTE DE GRADIENT  theta= theta - alpha*dJ(theta)/d(theta)"
   ]
  },
  {
   "cell_type": "code",
   "execution_count": 25,
   "metadata": {},
   "outputs": [
    {
     "name": "stdout",
     "output_type": "stream",
     "text": [
      "[[ 3.50509574e-04 -3.89833763e-04 -6.69264295e-04  6.70653598e-04\n",
      "  -1.24057220e-04  3.82218706e-04  3.62056879e-04  2.35797058e-04\n",
      "   5.96466931e-04  1.37370163e-04  3.65986660e-04 -1.47796987e-05\n",
      "  -2.09770485e-04  3.46187903e-04 -1.66401661e-04 -3.12393021e-04\n",
      "  -1.58782016e-04 -6.43245830e-04  2.87392538e-04 -1.08679583e-04\n",
      "  -5.94893345e-04 -1.09873155e-04  1.31644153e-04  5.21401887e-04\n",
      "  -5.67219374e-04 -2.91209089e-04  2.39086340e-04  8.56773285e-04\n",
      "  -3.94680127e-05  2.70819588e-04 -1.01709839e-04 -4.45553385e-04\n",
      "   1.36136954e-04 -1.53532820e-04  4.73188351e-04  2.32449574e-04\n",
      "   4.49021893e-04 -3.35541675e-04  2.03952412e-04  6.36025809e-04\n",
      "   4.79855828e-04 -3.71420617e-04 -3.31142106e-04 -7.65575133e-05\n",
      "  -4.15445253e-04  5.00550461e-04  3.23284975e-04 -5.54881569e-04\n",
      "  -2.63991076e-04  7.40487735e-05 -2.98833930e-04 -1.51922093e-05\n",
      "   1.72769680e-04  1.42872860e-04  4.07871101e-04  3.89609649e-04\n",
      "   4.65337581e-04 -1.23024610e-05 -3.08000030e-05 -4.09182245e-04\n",
      "  -1.69235810e-04  4.70835906e-04  7.75097268e-05  8.98514029e-06\n",
      "   5.30931766e-05  1.44184263e-04 -1.16709542e-04  3.91022128e-05\n",
      "   2.27790239e-04  1.86720808e-04  1.51121787e-05  1.54172579e-04\n",
      "  -5.11625681e-05  3.70358241e-04 -3.24273037e-05 -1.82370306e-04\n",
      "  -3.23767584e-04 -1.95295570e-04  1.80964195e-04  9.01871786e-05\n",
      "   3.29484500e-04 -1.51602076e-04 -1.61144319e-04 -1.71507823e-04\n",
      "  -3.33270263e-04  2.84215409e-05  5.17671507e-04 -1.79315414e-04\n",
      "   9.02709306e-05 -4.81658306e-06  1.81775784e-04 -3.34936301e-04\n",
      "  -7.15727869e-04 -5.33081769e-04 -7.77868517e-05 -2.02114802e-04\n",
      "   6.51955286e-05 -9.47119293e-05  1.14343809e-04 -6.20992586e-05\n",
      "   4.54814825e-04  7.00949034e-05  3.48536296e-04  4.32906898e-04\n",
      "   2.07765996e-04  1.94369442e-05  3.91085739e-04 -1.76596889e-04\n",
      "   7.42074790e-05  3.85960126e-04  2.73841680e-04  1.30721780e-04\n",
      "   3.94270702e-04 -3.01391237e-05  3.50205795e-04  9.82872893e-05\n",
      "   3.30635957e-04  8.25051349e-05  8.33743944e-05  5.16784261e-04\n",
      "  -4.26427395e-05  3.46337972e-04 -8.91160061e-05 -6.47594228e-05\n",
      "   1.69150899e-05 -4.46693799e-04  1.01500292e-04  3.62069852e-04\n",
      "  -4.87114585e-04  1.68264303e-05 -1.90542565e-04 -5.02595867e-04\n",
      "  -5.90007910e-05  1.09213724e-04 -1.33286999e-04 -1.95437988e-05\n",
      "   9.24092044e-05 -3.00944390e-04  4.69136650e-05 -9.63870573e-05\n",
      "  -6.85649384e-04 -2.03731997e-04 -5.84628357e-05 -2.76497565e-04\n",
      "  -1.14908704e-04 -5.27917541e-04  2.45959305e-04 -2.10975528e-06\n",
      "   3.60317843e-04  1.30236783e-04  3.65735254e-04 -1.15891537e-05\n",
      "  -3.80456923e-04  2.11446160e-04  1.37138760e-04 -2.44358386e-04\n",
      "  -2.27650171e-04  3.20180775e-04  1.11327980e-04  3.68875064e-04\n",
      "  -1.13813696e-04  1.09133890e-03  6.15580837e-05  8.76057255e-05\n",
      "   1.12030563e-05  1.14352379e-04  3.40646482e-05  5.62406112e-04\n",
      "   2.58642206e-04  1.45979739e-04 -1.71217192e-05  5.68221867e-05\n",
      "   4.45335240e-04  6.43975622e-05  6.43637314e-04  3.45257377e-04\n",
      "   8.92774161e-05  3.20580827e-04  5.97987886e-05 -4.91194184e-04\n",
      "   4.28654720e-06  1.34843304e-04  1.70487902e-04  1.62775441e-04\n",
      "  -1.87852752e-04 -3.17750371e-04  2.10448948e-04 -4.84838080e-05\n",
      "  -1.49768815e-04 -4.91903200e-04 -2.23812399e-04 -9.18640011e-06\n",
      "   6.75939753e-05 -2.87746514e-04  1.16414906e-04  1.78606836e-04\n",
      "   2.04203769e-04 -1.61110382e-04 -6.58588329e-05  3.28644069e-04\n",
      "  -3.41875222e-04 -1.94995922e-05  1.18601569e-04  4.10369798e-04\n",
      "   3.26860200e-04 -2.49745101e-04  4.68839062e-04 -3.53180998e-05\n",
      "   4.24790765e-04  2.87094932e-04 -9.47048454e-05  7.10516661e-04\n",
      "   5.63082089e-05 -3.46501859e-04 -2.65671766e-04 -6.34531495e-05\n",
      "   4.05619442e-04  5.15545473e-04  1.49939541e-04  4.42545279e-04\n",
      "  -1.29798862e-04  3.31089897e-04  1.82746086e-04 -5.41342906e-04\n",
      "  -1.59324181e-04  2.48389471e-04 -1.55790479e-04  1.70398526e-04\n",
      "   7.08348567e-04  5.12060033e-04 -4.95478639e-04  5.38274837e-04\n",
      "  -1.95841549e-04 -6.50273047e-05 -2.69754465e-04  6.32593371e-04\n",
      "  -9.15961909e-05 -2.93352762e-04  5.85716256e-04 -3.12968821e-04\n",
      "   1.94453254e-04 -3.47675652e-04 -6.91362060e-05  3.95527761e-04\n",
      "  -1.83308407e-04  5.19081276e-04  2.95246879e-05 -5.07706937e-04\n",
      "  -5.43202242e-06  1.34783034e-04 -4.86615702e-04  2.31389178e-04\n",
      "   1.39792542e-04 -3.29590097e-05  5.62169383e-04 -7.80906041e-04\n",
      "  -4.15314883e-04 -5.13918231e-04  2.32295328e-04  5.40032122e-04\n",
      "  -4.43091906e-05 -3.54144054e-05 -2.57024673e-04 -1.50622459e-04\n",
      "  -2.83701308e-04  2.70647280e-04  2.98403397e-04  7.95596135e-04\n",
      "  -8.34671320e-05  4.40356206e-04  4.32578532e-04  7.52267772e-05\n",
      "   1.84676032e-04  4.01485278e-04 -1.60678792e-04  2.17924686e-04\n",
      "  -4.48721474e-04  2.56086140e-04 -1.59999467e-04  7.68877674e-05]\n",
      " [-2.34098088e+01  3.34584054e+01  5.49223864e+01 -4.80011275e+01\n",
      "   1.30432323e+01 -2.58454919e+01 -2.42967954e+01 -1.45983620e+01\n",
      "  -4.23026049e+01 -7.03786750e+00 -2.45986549e+01  4.64926534e+00\n",
      "   1.96271509e+01 -2.30778470e+01  1.62958485e+01  2.75099265e+01\n",
      "   1.57105584e+01  5.29238223e+01 -1.85615810e+01  1.18620253e+01\n",
      "   4.92097084e+01  1.19537075e+01 -6.59803376e+00 -3.65366112e+01\n",
      "   4.70839793e+01  2.58827188e+01 -1.48510226e+01 -6.22975947e+01\n",
      "   6.54565619e+00 -1.72885581e+01  1.13266562e+01  3.77384134e+01\n",
      "  -6.94314062e+00  1.53073504e+01 -3.28331704e+01 -1.43412307e+01\n",
      "  -3.09768651e+01  2.92880509e+01 -1.21522697e+01 -4.53412528e+01\n",
      "  -3.33453213e+01  3.20440309e+01  2.89501055e+01  9.39462309e+00\n",
      "   3.54257084e+01 -3.49349443e+01 -2.13185976e+01  4.61362719e+01\n",
      "   2.37920134e+01 -2.17394266e+00  2.64684080e+01  4.68095164e+00\n",
      "  -9.75702120e+00 -7.46054780e+00 -2.78159370e+01 -2.64132146e+01\n",
      "  -3.22301269e+01  4.45898054e+00  5.87983777e+00  3.49446261e+01\n",
      "   1.65135488e+01 -3.26524714e+01 -2.43978991e+00  2.82380965e+00\n",
      "  -5.64274128e-01 -7.56128099e+00  1.24788329e+01  5.10417957e-01\n",
      "  -1.39833318e+01 -1.08286534e+01  2.35317162e+00 -8.32851648e+00\n",
      "   7.44395357e+00 -2.49344504e+01  6.00483610e+00  1.75224528e+01\n",
      "   2.83836442e+01  1.85152850e+01 -1.03864689e+01 -3.41358680e+00\n",
      "  -2.17948035e+01  1.51590435e+01  1.58920147e+01  1.66880696e+01\n",
      "   2.91135763e+01  1.33083560e+00 -3.62500684e+01  1.72877965e+01\n",
      "  -3.42002007e+00  3.88396556e+00 -1.04488097e+01  2.92415502e+01\n",
      "   5.84914068e+01  4.44617573e+01  9.48905263e+00  1.90390927e+01\n",
      "  -1.49389572e+00  1.07891237e+01 -5.26913725e+00  8.28403685e+00\n",
      "  -3.14218392e+01 -1.87023285e+00 -2.32582349e+01 -2.97390191e+01\n",
      "  -1.24452037e+01  2.02097212e+00 -2.65265979e+01  1.70789776e+01\n",
      "  -2.18613336e+00 -2.61328827e+01 -1.75206949e+01 -6.52718330e+00\n",
      "  -2.67712455e+01  5.82907345e+00 -2.33864745e+01 -4.03578303e+00\n",
      "  -2.18832508e+01 -2.82350368e+00 -2.89027437e+00 -3.61819161e+01\n",
      "   6.78951743e+00 -2.30893743e+01  1.03592824e+01  8.48837283e+00\n",
      "   2.21468406e+00  3.78260123e+01 -4.28258439e+00 -2.42977919e+01\n",
      "   4.09308662e+01  2.22149430e+00  1.81501910e+01  4.21200346e+01\n",
      "   8.04603333e+00 -4.87507853e+00  1.37522021e+01  5.01521159e+00\n",
      "  -3.58426793e+00  2.66305193e+01 -8.96054567e-02  1.09177958e+01\n",
      "   5.61809791e+01  1.91633147e+01  8.00471121e+00  2.47526781e+01\n",
      "   1.23405045e+01  4.40650759e+01 -1.53789577e+01  3.67604519e+00\n",
      "  -2.41632144e+01 -6.48992901e+00 -2.45793435e+01  4.40418906e+00\n",
      "   3.27381393e+01 -1.27278892e+01 -7.02009265e+00  2.22839617e+01\n",
      "   2.10005486e+01 -2.10801537e+01 -5.03748153e+00 -2.48205227e+01\n",
      "   1.22563934e+01 -8.03153537e+01 -1.21449157e+00 -3.21529687e+00\n",
      "   2.65344421e+00 -5.26979553e+00  8.97369911e-01 -3.96862810e+01\n",
      "  -1.63531732e+01 -7.69919740e+00  4.82916366e+00 -8.50711702e-01\n",
      "  -3.06936810e+01 -1.43260128e+00 -4.59259176e+01 -2.30063702e+01\n",
      "  -3.34370494e+00 -2.11108830e+01 -1.07935431e+00  4.12442337e+01\n",
      "   3.18472409e+00 -6.84377109e+00 -9.58175027e+00 -8.98933072e+00\n",
      "   1.79435775e+01  2.79214422e+01 -1.26512900e+01  7.23818917e+00\n",
      "   1.50182247e+01  4.12986955e+01  2.07057567e+01  4.21962562e+00\n",
      "  -1.67812832e+00  2.56167469e+01 -5.42822505e+00 -1.02053924e+01\n",
      "  -1.21715772e+01  1.58894079e+01  8.57282215e+00 -2.17302472e+01\n",
      "   2.97745516e+01  5.01181593e+00 -5.59618986e+00 -2.80078701e+01\n",
      "  -2.15932224e+01  2.26977330e+01 -3.24990871e+01  6.22688768e+00\n",
      "  -2.91155922e+01 -1.85387209e+01  1.07885795e+01 -5.10631409e+01\n",
      "  -8.11231373e-01  3.01299389e+01  2.39211128e+01  8.38803367e+00\n",
      "  -2.76429796e+01 -3.60867607e+01 -8.00336287e+00 -3.04793750e+01\n",
      "   1.34842667e+01 -2.19181193e+01 -1.05233419e+01  4.50963225e+01\n",
      "   1.57522039e+01 -1.55656268e+01  1.54807686e+01 -9.57488505e+00\n",
      "  -5.08966024e+01 -3.58190325e+01  4.15733368e+01 -3.78326781e+01\n",
      "   1.85572234e+01  8.50894973e+00  2.42347183e+01 -4.50775959e+01\n",
      "   1.05497935e+01  2.60473814e+01 -4.14768101e+01  2.75541556e+01\n",
      "  -1.14226080e+01  3.02201018e+01  8.82456799e+00 -2.68678043e+01\n",
      "   1.75945114e+01 -3.63583574e+01  1.24609924e+00  4.25126327e+01\n",
      "   3.93123949e+00 -6.83914156e+00  4.08925454e+01 -1.42597782e+01\n",
      "  -7.22393842e+00  6.04567819e+00 -3.96680970e+01  6.34979572e+01\n",
      "   3.54156943e+01  4.29897427e+01 -1.43293826e+01 -3.79676610e+01\n",
      "   6.91752303e+00  6.23428524e+00  2.32569010e+01  1.50837959e+01\n",
      "   2.53060214e+01 -1.72753226e+01 -1.94073615e+01 -5.75983760e+01\n",
      "   9.92537370e+00 -3.03112250e+01 -2.97137962e+01 -2.26442901e+00\n",
      "  -1.06715874e+01 -2.73254208e+01  1.58562560e+01 -1.32255262e+01\n",
      "   3.79817647e+01 -1.61568334e+01  1.58040748e+01 -2.39201515e+00]]\n"
     ]
    }
   ],
   "source": [
    "# Creer une fonction pour la descente de gradiant*\n",
    "\n",
    "# lE PARAMETRE alpha=learning_rate + le nbre d'iterations\n",
    "def descent_gran(k, y_data, theta, learning_rate, nbre_iterations):\n",
    "    \n",
    "    # Vu que c'est 1 algo iteratif on va ecrire une boucle for\n",
    "    for i in range(0, nbre_iterations):  \n",
    "        #Mettre à jour theta Cette algo va mettre à jour pendant nbre_iterations(1000); LA VALEUR DE THETA\n",
    "        theta  = theta - learning_rate * gradiant(k, y_data, theta)\n",
    "    # On quitte la boucle\n",
    "    return theta\n",
    "        \n",
    "print(descent_gran(k, y_data, theta, learning_rate=0.01, nbre_iterations=1000))"
   ]
  },
  {
   "cell_type": "markdown",
   "metadata": {},
   "source": [
    "### ENTRAINEMENT DU MODEL : MACHINE LEARNING"
   ]
  },
  {
   "cell_type": "code",
   "execution_count": 26,
   "metadata": {},
   "outputs": [
    {
     "data": {
      "text/plain": [
       "array([[ 3.50509574e-04, -3.89833763e-04, -6.69264295e-04,\n",
       "         6.70653598e-04, -1.24057220e-04,  3.82218706e-04,\n",
       "         3.62056879e-04,  2.35797058e-04,  5.96466931e-04,\n",
       "         1.37370163e-04,  3.65986660e-04, -1.47796987e-05,\n",
       "        -2.09770485e-04,  3.46187903e-04, -1.66401661e-04,\n",
       "        -3.12393021e-04, -1.58782016e-04, -6.43245830e-04,\n",
       "         2.87392538e-04, -1.08679583e-04, -5.94893345e-04,\n",
       "        -1.09873155e-04,  1.31644153e-04,  5.21401887e-04,\n",
       "        -5.67219374e-04, -2.91209089e-04,  2.39086340e-04,\n",
       "         8.56773285e-04, -3.94680127e-05,  2.70819588e-04,\n",
       "        -1.01709839e-04, -4.45553385e-04,  1.36136954e-04,\n",
       "        -1.53532820e-04,  4.73188351e-04,  2.32449574e-04,\n",
       "         4.49021893e-04, -3.35541675e-04,  2.03952412e-04,\n",
       "         6.36025809e-04,  4.79855828e-04, -3.71420617e-04,\n",
       "        -3.31142106e-04, -7.65575133e-05, -4.15445253e-04,\n",
       "         5.00550461e-04,  3.23284975e-04, -5.54881569e-04,\n",
       "        -2.63991076e-04,  7.40487735e-05, -2.98833930e-04,\n",
       "        -1.51922093e-05,  1.72769680e-04,  1.42872860e-04,\n",
       "         4.07871101e-04,  3.89609649e-04,  4.65337581e-04,\n",
       "        -1.23024610e-05, -3.08000030e-05, -4.09182245e-04,\n",
       "        -1.69235810e-04,  4.70835906e-04,  7.75097268e-05,\n",
       "         8.98514029e-06,  5.30931766e-05,  1.44184263e-04,\n",
       "        -1.16709542e-04,  3.91022128e-05,  2.27790239e-04,\n",
       "         1.86720808e-04,  1.51121787e-05,  1.54172579e-04,\n",
       "        -5.11625681e-05,  3.70358241e-04, -3.24273037e-05,\n",
       "        -1.82370306e-04, -3.23767584e-04, -1.95295570e-04,\n",
       "         1.80964195e-04,  9.01871786e-05,  3.29484500e-04,\n",
       "        -1.51602076e-04, -1.61144319e-04, -1.71507823e-04,\n",
       "        -3.33270263e-04,  2.84215409e-05,  5.17671507e-04,\n",
       "        -1.79315414e-04,  9.02709306e-05, -4.81658306e-06,\n",
       "         1.81775784e-04, -3.34936301e-04, -7.15727869e-04,\n",
       "        -5.33081769e-04, -7.77868517e-05, -2.02114802e-04,\n",
       "         6.51955286e-05, -9.47119293e-05,  1.14343809e-04,\n",
       "        -6.20992586e-05,  4.54814825e-04,  7.00949034e-05,\n",
       "         3.48536296e-04,  4.32906898e-04,  2.07765996e-04,\n",
       "         1.94369442e-05,  3.91085739e-04, -1.76596889e-04,\n",
       "         7.42074790e-05,  3.85960126e-04,  2.73841680e-04,\n",
       "         1.30721780e-04,  3.94270702e-04, -3.01391237e-05,\n",
       "         3.50205795e-04,  9.82872893e-05,  3.30635957e-04,\n",
       "         8.25051349e-05,  8.33743944e-05,  5.16784261e-04,\n",
       "        -4.26427395e-05,  3.46337972e-04, -8.91160061e-05,\n",
       "        -6.47594228e-05,  1.69150899e-05, -4.46693799e-04,\n",
       "         1.01500292e-04,  3.62069852e-04, -4.87114585e-04,\n",
       "         1.68264303e-05, -1.90542565e-04, -5.02595867e-04,\n",
       "        -5.90007910e-05,  1.09213724e-04, -1.33286999e-04,\n",
       "        -1.95437988e-05,  9.24092044e-05, -3.00944390e-04,\n",
       "         4.69136650e-05, -9.63870573e-05, -6.85649384e-04,\n",
       "        -2.03731997e-04, -5.84628357e-05, -2.76497565e-04,\n",
       "        -1.14908704e-04, -5.27917541e-04,  2.45959305e-04,\n",
       "        -2.10975528e-06,  3.60317843e-04,  1.30236783e-04,\n",
       "         3.65735254e-04, -1.15891537e-05, -3.80456923e-04,\n",
       "         2.11446160e-04,  1.37138760e-04, -2.44358386e-04,\n",
       "        -2.27650171e-04,  3.20180775e-04,  1.11327980e-04,\n",
       "         3.68875064e-04, -1.13813696e-04,  1.09133890e-03,\n",
       "         6.15580837e-05,  8.76057255e-05,  1.12030563e-05,\n",
       "         1.14352379e-04,  3.40646482e-05,  5.62406112e-04,\n",
       "         2.58642206e-04,  1.45979739e-04, -1.71217192e-05,\n",
       "         5.68221867e-05,  4.45335240e-04,  6.43975622e-05,\n",
       "         6.43637314e-04,  3.45257377e-04,  8.92774161e-05,\n",
       "         3.20580827e-04,  5.97987886e-05, -4.91194184e-04,\n",
       "         4.28654720e-06,  1.34843304e-04,  1.70487902e-04,\n",
       "         1.62775441e-04, -1.87852752e-04, -3.17750371e-04,\n",
       "         2.10448948e-04, -4.84838080e-05, -1.49768815e-04,\n",
       "        -4.91903200e-04, -2.23812399e-04, -9.18640011e-06,\n",
       "         6.75939753e-05, -2.87746514e-04,  1.16414906e-04,\n",
       "         1.78606836e-04,  2.04203769e-04, -1.61110382e-04,\n",
       "        -6.58588329e-05,  3.28644069e-04, -3.41875222e-04,\n",
       "        -1.94995922e-05,  1.18601569e-04,  4.10369798e-04,\n",
       "         3.26860200e-04, -2.49745101e-04,  4.68839062e-04,\n",
       "        -3.53180998e-05,  4.24790765e-04,  2.87094932e-04,\n",
       "        -9.47048454e-05,  7.10516661e-04,  5.63082089e-05,\n",
       "        -3.46501859e-04, -2.65671766e-04, -6.34531495e-05,\n",
       "         4.05619442e-04,  5.15545473e-04,  1.49939541e-04,\n",
       "         4.42545279e-04, -1.29798862e-04,  3.31089897e-04,\n",
       "         1.82746086e-04, -5.41342906e-04, -1.59324181e-04,\n",
       "         2.48389471e-04, -1.55790479e-04,  1.70398526e-04,\n",
       "         7.08348567e-04,  5.12060033e-04, -4.95478639e-04,\n",
       "         5.38274837e-04, -1.95841549e-04, -6.50273047e-05,\n",
       "        -2.69754465e-04,  6.32593371e-04, -9.15961909e-05,\n",
       "        -2.93352762e-04,  5.85716256e-04, -3.12968821e-04,\n",
       "         1.94453254e-04, -3.47675652e-04, -6.91362060e-05,\n",
       "         3.95527761e-04, -1.83308407e-04,  5.19081276e-04,\n",
       "         2.95246879e-05, -5.07706937e-04, -5.43202242e-06,\n",
       "         1.34783034e-04, -4.86615702e-04,  2.31389178e-04,\n",
       "         1.39792542e-04, -3.29590097e-05,  5.62169383e-04,\n",
       "        -7.80906041e-04, -4.15314883e-04, -5.13918231e-04,\n",
       "         2.32295328e-04,  5.40032122e-04, -4.43091906e-05,\n",
       "        -3.54144054e-05, -2.57024673e-04, -1.50622459e-04,\n",
       "        -2.83701308e-04,  2.70647280e-04,  2.98403397e-04,\n",
       "         7.95596135e-04, -8.34671320e-05,  4.40356206e-04,\n",
       "         4.32578532e-04,  7.52267772e-05,  1.84676032e-04,\n",
       "         4.01485278e-04, -1.60678792e-04,  2.17924686e-04,\n",
       "        -4.48721474e-04,  2.56086140e-04, -1.59999467e-04,\n",
       "         7.68877674e-05],\n",
       "       [-2.34098088e+01,  3.34584054e+01,  5.49223864e+01,\n",
       "        -4.80011275e+01,  1.30432323e+01, -2.58454919e+01,\n",
       "        -2.42967954e+01, -1.45983620e+01, -4.23026049e+01,\n",
       "        -7.03786750e+00, -2.45986549e+01,  4.64926534e+00,\n",
       "         1.96271509e+01, -2.30778470e+01,  1.62958485e+01,\n",
       "         2.75099265e+01,  1.57105584e+01,  5.29238223e+01,\n",
       "        -1.85615810e+01,  1.18620253e+01,  4.92097084e+01,\n",
       "         1.19537075e+01, -6.59803376e+00, -3.65366112e+01,\n",
       "         4.70839793e+01,  2.58827188e+01, -1.48510226e+01,\n",
       "        -6.22975947e+01,  6.54565619e+00, -1.72885581e+01,\n",
       "         1.13266562e+01,  3.77384134e+01, -6.94314062e+00,\n",
       "         1.53073504e+01, -3.28331704e+01, -1.43412307e+01,\n",
       "        -3.09768651e+01,  2.92880509e+01, -1.21522697e+01,\n",
       "        -4.53412528e+01, -3.33453213e+01,  3.20440309e+01,\n",
       "         2.89501055e+01,  9.39462309e+00,  3.54257084e+01,\n",
       "        -3.49349443e+01, -2.13185976e+01,  4.61362719e+01,\n",
       "         2.37920134e+01, -2.17394266e+00,  2.64684080e+01,\n",
       "         4.68095164e+00, -9.75702120e+00, -7.46054780e+00,\n",
       "        -2.78159370e+01, -2.64132146e+01, -3.22301269e+01,\n",
       "         4.45898054e+00,  5.87983777e+00,  3.49446261e+01,\n",
       "         1.65135488e+01, -3.26524714e+01, -2.43978991e+00,\n",
       "         2.82380965e+00, -5.64274128e-01, -7.56128099e+00,\n",
       "         1.24788329e+01,  5.10417957e-01, -1.39833318e+01,\n",
       "        -1.08286534e+01,  2.35317162e+00, -8.32851648e+00,\n",
       "         7.44395357e+00, -2.49344504e+01,  6.00483610e+00,\n",
       "         1.75224528e+01,  2.83836442e+01,  1.85152850e+01,\n",
       "        -1.03864689e+01, -3.41358680e+00, -2.17948035e+01,\n",
       "         1.51590435e+01,  1.58920147e+01,  1.66880696e+01,\n",
       "         2.91135763e+01,  1.33083560e+00, -3.62500684e+01,\n",
       "         1.72877965e+01, -3.42002007e+00,  3.88396556e+00,\n",
       "        -1.04488097e+01,  2.92415502e+01,  5.84914068e+01,\n",
       "         4.44617573e+01,  9.48905263e+00,  1.90390927e+01,\n",
       "        -1.49389572e+00,  1.07891237e+01, -5.26913725e+00,\n",
       "         8.28403685e+00, -3.14218392e+01, -1.87023285e+00,\n",
       "        -2.32582349e+01, -2.97390191e+01, -1.24452037e+01,\n",
       "         2.02097212e+00, -2.65265979e+01,  1.70789776e+01,\n",
       "        -2.18613336e+00, -2.61328827e+01, -1.75206949e+01,\n",
       "        -6.52718330e+00, -2.67712455e+01,  5.82907345e+00,\n",
       "        -2.33864745e+01, -4.03578303e+00, -2.18832508e+01,\n",
       "        -2.82350368e+00, -2.89027437e+00, -3.61819161e+01,\n",
       "         6.78951743e+00, -2.30893743e+01,  1.03592824e+01,\n",
       "         8.48837283e+00,  2.21468406e+00,  3.78260123e+01,\n",
       "        -4.28258439e+00, -2.42977919e+01,  4.09308662e+01,\n",
       "         2.22149430e+00,  1.81501910e+01,  4.21200346e+01,\n",
       "         8.04603333e+00, -4.87507853e+00,  1.37522021e+01,\n",
       "         5.01521159e+00, -3.58426793e+00,  2.66305193e+01,\n",
       "        -8.96054567e-02,  1.09177958e+01,  5.61809791e+01,\n",
       "         1.91633147e+01,  8.00471121e+00,  2.47526781e+01,\n",
       "         1.23405045e+01,  4.40650759e+01, -1.53789577e+01,\n",
       "         3.67604519e+00, -2.41632144e+01, -6.48992901e+00,\n",
       "        -2.45793435e+01,  4.40418906e+00,  3.27381393e+01,\n",
       "        -1.27278892e+01, -7.02009265e+00,  2.22839617e+01,\n",
       "         2.10005486e+01, -2.10801537e+01, -5.03748153e+00,\n",
       "        -2.48205227e+01,  1.22563934e+01, -8.03153537e+01,\n",
       "        -1.21449157e+00, -3.21529687e+00,  2.65344421e+00,\n",
       "        -5.26979553e+00,  8.97369911e-01, -3.96862810e+01,\n",
       "        -1.63531732e+01, -7.69919740e+00,  4.82916366e+00,\n",
       "        -8.50711702e-01, -3.06936810e+01, -1.43260128e+00,\n",
       "        -4.59259176e+01, -2.30063702e+01, -3.34370494e+00,\n",
       "        -2.11108830e+01, -1.07935431e+00,  4.12442337e+01,\n",
       "         3.18472409e+00, -6.84377109e+00, -9.58175027e+00,\n",
       "        -8.98933072e+00,  1.79435775e+01,  2.79214422e+01,\n",
       "        -1.26512900e+01,  7.23818917e+00,  1.50182247e+01,\n",
       "         4.12986955e+01,  2.07057567e+01,  4.21962562e+00,\n",
       "        -1.67812832e+00,  2.56167469e+01, -5.42822505e+00,\n",
       "        -1.02053924e+01, -1.21715772e+01,  1.58894079e+01,\n",
       "         8.57282215e+00, -2.17302472e+01,  2.97745516e+01,\n",
       "         5.01181593e+00, -5.59618986e+00, -2.80078701e+01,\n",
       "        -2.15932224e+01,  2.26977330e+01, -3.24990871e+01,\n",
       "         6.22688768e+00, -2.91155922e+01, -1.85387209e+01,\n",
       "         1.07885795e+01, -5.10631409e+01, -8.11231373e-01,\n",
       "         3.01299389e+01,  2.39211128e+01,  8.38803367e+00,\n",
       "        -2.76429796e+01, -3.60867607e+01, -8.00336287e+00,\n",
       "        -3.04793750e+01,  1.34842667e+01, -2.19181193e+01,\n",
       "        -1.05233419e+01,  4.50963225e+01,  1.57522039e+01,\n",
       "        -1.55656268e+01,  1.54807686e+01, -9.57488505e+00,\n",
       "        -5.08966024e+01, -3.58190325e+01,  4.15733368e+01,\n",
       "        -3.78326781e+01,  1.85572234e+01,  8.50894973e+00,\n",
       "         2.42347183e+01, -4.50775959e+01,  1.05497935e+01,\n",
       "         2.60473814e+01, -4.14768101e+01,  2.75541556e+01,\n",
       "        -1.14226080e+01,  3.02201018e+01,  8.82456799e+00,\n",
       "        -2.68678043e+01,  1.75945114e+01, -3.63583574e+01,\n",
       "         1.24609924e+00,  4.25126327e+01,  3.93123949e+00,\n",
       "        -6.83914156e+00,  4.08925454e+01, -1.42597782e+01,\n",
       "        -7.22393842e+00,  6.04567819e+00, -3.96680970e+01,\n",
       "         6.34979572e+01,  3.54156943e+01,  4.29897427e+01,\n",
       "        -1.43293826e+01, -3.79676610e+01,  6.91752303e+00,\n",
       "         6.23428524e+00,  2.32569010e+01,  1.50837959e+01,\n",
       "         2.53060214e+01, -1.72753226e+01, -1.94073615e+01,\n",
       "        -5.75983760e+01,  9.92537370e+00, -3.03112250e+01,\n",
       "        -2.97137962e+01, -2.26442901e+00, -1.06715874e+01,\n",
       "        -2.73254208e+01,  1.58562560e+01, -1.32255262e+01,\n",
       "         3.79817647e+01, -1.61568334e+01,  1.58040748e+01,\n",
       "        -2.39201515e+00]])"
      ]
     },
     "execution_count": 26,
     "metadata": {},
     "output_type": "execute_result"
    }
   ],
   "source": [
    "# C'est le parametres de theta final a=1.68224812 et b= -1.40060318\n",
    "#learning_rate (LES PLAT DANS LA DESCENTE DE GRADIANT)\n",
    "theta_final = descent_gran(k, y_data, theta, learning_rate=0.01, nbre_iterations=1000)\n",
    "theta_final"
   ]
  },
  {
   "cell_type": "markdown",
   "metadata": {},
   "source": [
    "### VOIR SI LES PARAMETRES DE THETA_FINAL NOUS DONNE DES BONS RESULTS"
   ]
  },
  {
   "cell_type": "code",
   "execution_count": 27,
   "metadata": {},
   "outputs": [
    {
     "data": {
      "text/plain": [
       "array([[-23.40975076,  33.4583408 ,  54.92227548, ..., -16.15679093,\n",
       "         15.80404834,  -2.39200241],\n",
       "       [-23.40909147,  33.45760755,  54.92101664, ..., -16.15630925,\n",
       "         15.80374739,  -2.39185779],\n",
       "       [-23.40898569,  33.4574899 ,  54.92081465, ..., -16.15623196,\n",
       "         15.80369911,  -2.39183459],\n",
       "       ...,\n",
       "       [-23.41015414,  33.45878944,  54.9230457 , ..., -16.15708565,\n",
       "         15.80423248,  -2.3920909 ],\n",
       "       [-23.40944803,  33.45800411,  54.92169744, ..., -16.15656975,\n",
       "         15.80391015,  -2.39193601],\n",
       "       [-23.41013929,  33.45877292,  54.92301734, ..., -16.1570748 ,\n",
       "         15.8042257 ,  -2.39208764]])"
      ]
     },
     "execution_count": 27,
     "metadata": {},
     "output_type": "execute_result"
    }
   ],
   "source": [
    "#CREER UN VECTEUR DE PREDICTIONS = AU MODELE(k, theta_final)\n",
    "vecteur_prediction = modele(k, theta_final)\n",
    "vecteur_prediction"
   ]
  },
  {
   "cell_type": "code",
   "execution_count": 31,
   "metadata": {},
   "outputs": [
    {
     "data": {
      "text/plain": [
       "<matplotlib.collections.PathCollection at 0x27577597640>"
      ]
     },
     "execution_count": 31,
     "metadata": {},
     "output_type": "execute_result"
    },
    {
     "data": {
      "image/png": "[encoded data removed]",
      "text/plain": [
       "<Figure size 432x288 with 1 Axes>"
      ]
     },
     "metadata": {
      "needs_background": "light"
     },
     "output_type": "display_data"
    }
   ],
   "source": [
    "#plt.modele(k, theta_final)\n",
    "\n",
    "#Trace sur le model\n",
    "plt.scatter(X_data.reshape(-1, 1), y_data.reshape(-1, 1))  # C'est la DATASET\n",
    "#Le model EN ROUGE aboutit\n",
    "#plt.plot(X_data, vecteur_prediction , c='r');"
   ]
  }
 ],
 "metadata": {
  "interpreter": {
   "hash": "8303420331781dc355b9e10e1f5c9fb44c9a44433d9b315cb5b48532ddb61524"
  },
  "kernelspec": {
   "display_name": "Python 3.9.5 64-bit ('.envDjango': venv)",
   "language": "python",
   "name": "python3"
  },
  "language_info": {
   "codemirror_mode": {
    "name": "ipython",
    "version": 3
   },
   "file_extension": ".py",
   "mimetype": "text/x-python",
   "name": "python",
   "nbconvert_exporter": "python",
   "pygments_lexer": "ipython3",
   "version": "3.9.5"
  },
  "orig_nbformat": 4
 },
 "nbformat": 4,
 "nbformat_minor": 2
}
